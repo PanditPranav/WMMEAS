{
 "cells": [
  {
   "cell_type": "code",
   "execution_count": 1,
   "metadata": {},
   "outputs": [
    {
     "name": "stderr",
     "output_type": "stream",
     "text": [
      "Loading required package: knitr\n",
      "\n",
      "\n",
      "Attaching package: 'dplyr'\n",
      "\n",
      "\n",
      "The following objects are masked from 'package:stats':\n",
      "\n",
      "    filter, lag\n",
      "\n",
      "\n",
      "The following objects are masked from 'package:base':\n",
      "\n",
      "    intersect, setdiff, setequal, union\n",
      "\n",
      "\n",
      "Registered S3 method overwritten by 'quantmod':\n",
      "  method            from\n",
      "  as.zoo.data.frame zoo \n",
      "\n",
      "Loading required package: timeDate\n",
      "\n",
      "Loading required package: timeSeries\n",
      "\n",
      "Loading required package: fBasics\n",
      "\n",
      "\n",
      "Attaching package: 'fBasics'\n",
      "\n",
      "\n",
      "The following object is masked from 'package:astsa':\n",
      "\n",
      "    nyse\n",
      "\n",
      "\n",
      "\n",
      "Attaching package: 'forecast'\n",
      "\n",
      "\n",
      "The following object is masked from 'package:astsa':\n",
      "\n",
      "    gas\n",
      "\n",
      "\n",
      "Loading required package: zoo\n",
      "\n",
      "\n",
      "Attaching package: 'zoo'\n",
      "\n",
      "\n",
      "The following object is masked from 'package:timeSeries':\n",
      "\n",
      "    time<-\n",
      "\n",
      "\n",
      "The following objects are masked from 'package:base':\n",
      "\n",
      "    as.Date, as.Date.numeric\n",
      "\n",
      "\n",
      "Registering fonts with R\n",
      "\n"
     ]
    }
   ],
   "source": [
    "#install.packages('astsa', repos='http://cran.us.r-project.org')\n",
    "#install.packages(\"extrafont\", repos='http://cran.us.r-project.org')\n",
    "options(repr.plot.width=4, repr.plot.height=4)\n",
    "require(astsa, quietly=TRUE, warn.conflicts=FALSE)\n",
    "require(knitr)\n",
    "library(ggplot2)\n",
    "library(dplyr)\n",
    "library(ggthemes)\n",
    "library(tseries)\n",
    "library(fUnitRoots)\n",
    "library(forecast)\n",
    "library(lmtest)\n",
    "library(extrafont)\n",
    "#font_import()\n",
    "#loadfonts(device=\"win\")  \n",
    "options(repr.plot.width=4, repr.plot.height=4)"
   ]
  },
  {
   "cell_type": "code",
   "execution_count": 2,
   "metadata": {},
   "outputs": [
    {
     "data": {
      "text/html": [
       "<table>\n",
       "<caption>A data.frame: 6 × 5</caption>\n",
       "<thead>\n",
       "\t<tr><th></th><th scope=col>Time</th><th scope=col>WRMD</th><th scope=col>BEACH</th><th scope=col>date</th><th scope=col>Month</th></tr>\n",
       "\t<tr><th></th><th scope=col>&lt;fct&gt;</th><th scope=col>&lt;int&gt;</th><th scope=col>&lt;int&gt;</th><th scope=col>&lt;date&gt;</th><th scope=col>&lt;chr&gt;</th></tr>\n",
       "</thead>\n",
       "<tbody>\n",
       "\t<tr><th scope=row>1</th><td>2013-01-31</td><td>62</td><td>329</td><td>2013-01-31</td><td>January </td></tr>\n",
       "\t<tr><th scope=row>2</th><td>2013-02-28</td><td>87</td><td>283</td><td>2013-02-28</td><td>February</td></tr>\n",
       "\t<tr><th scope=row>3</th><td>2013-03-31</td><td>29</td><td>243</td><td>2013-03-31</td><td>March   </td></tr>\n",
       "\t<tr><th scope=row>4</th><td>2013-04-30</td><td>24</td><td>135</td><td>2013-04-30</td><td>April   </td></tr>\n",
       "\t<tr><th scope=row>5</th><td>2013-05-31</td><td>16</td><td> 99</td><td>2013-05-31</td><td>May     </td></tr>\n",
       "\t<tr><th scope=row>6</th><td>2013-06-30</td><td>27</td><td> 77</td><td>2013-06-30</td><td>June    </td></tr>\n",
       "</tbody>\n",
       "</table>\n"
      ],
      "text/latex": [
       "A data.frame: 6 × 5\n",
       "\\begin{tabular}{r|lllll}\n",
       "  & Time & WRMD & BEACH & date & Month\\\\\n",
       "  & <fct> & <int> & <int> & <date> & <chr>\\\\\n",
       "\\hline\n",
       "\t1 & 2013-01-31 & 62 & 329 & 2013-01-31 & January \\\\\n",
       "\t2 & 2013-02-28 & 87 & 283 & 2013-02-28 & February\\\\\n",
       "\t3 & 2013-03-31 & 29 & 243 & 2013-03-31 & March   \\\\\n",
       "\t4 & 2013-04-30 & 24 & 135 & 2013-04-30 & April   \\\\\n",
       "\t5 & 2013-05-31 & 16 &  99 & 2013-05-31 & May     \\\\\n",
       "\t6 & 2013-06-30 & 27 &  77 & 2013-06-30 & June    \\\\\n",
       "\\end{tabular}\n"
      ],
      "text/markdown": [
       "\n",
       "A data.frame: 6 × 5\n",
       "\n",
       "| <!--/--> | Time &lt;fct&gt; | WRMD &lt;int&gt; | BEACH &lt;int&gt; | date &lt;date&gt; | Month &lt;chr&gt; |\n",
       "|---|---|---|---|---|---|\n",
       "| 1 | 2013-01-31 | 62 | 329 | 2013-01-31 | January  |\n",
       "| 2 | 2013-02-28 | 87 | 283 | 2013-02-28 | February |\n",
       "| 3 | 2013-03-31 | 29 | 243 | 2013-03-31 | March    |\n",
       "| 4 | 2013-04-30 | 24 | 135 | 2013-04-30 | April    |\n",
       "| 5 | 2013-05-31 | 16 |  99 | 2013-05-31 | May      |\n",
       "| 6 | 2013-06-30 | 27 |  77 | 2013-06-30 | June     |\n",
       "\n"
      ],
      "text/plain": [
       "  Time       WRMD BEACH date       Month   \n",
       "1 2013-01-31 62   329   2013-01-31 January \n",
       "2 2013-02-28 87   283   2013-02-28 February\n",
       "3 2013-03-31 29   243   2013-03-31 March   \n",
       "4 2013-04-30 24   135   2013-04-30 April   \n",
       "5 2013-05-31 16    99   2013-05-31 May     \n",
       "6 2013-06-30 27    77   2013-06-30 June    "
      ]
     },
     "metadata": {},
     "output_type": "display_data"
    }
   ],
   "source": [
    "df <- read.csv(\"C:/Users/Falco/Desktop/directory/WRMD_paper/data/Weekly.csv\", header=TRUE)\n",
    "colnames(df) = c(\"Time\", \"WRMD\", \"BEACH\")\n",
    "df$date <- as.Date(df$Time)\n",
    "df$Month = months(df$date)\n",
    "head(df)"
   ]
  },
  {
   "cell_type": "code",
   "execution_count": 3,
   "metadata": {
    "cell_style": "split"
   },
   "outputs": [
    {
     "data": {
      "image/png": "[encoded data removed]",
      "text/plain": [
       "plot without title"
      ]
     },
     "metadata": {
      "image/png": {
       "height": 240,
       "width": 240
      },
      "text/plain": {
       "height": 240,
       "width": 240
      }
     },
     "output_type": "display_data"
    }
   ],
   "source": [
    "ggplot(data = df, aes(date, WRMD)) + geom_line() + ylab(\"WRMD admissions\") +  xlab(\"date\")+ theme_economist()+\n",
    "            ggtitle(\"WRMD admission\")"
   ]
  },
  {
   "cell_type": "code",
   "execution_count": 4,
   "metadata": {
    "cell_style": "split"
   },
   "outputs": [
    {
     "data": {
      "image/png": "[encoded data removed]",
      "text/plain": [
       "plot without title"
      ]
     },
     "metadata": {
      "image/png": {
       "height": 240,
       "width": 240
      },
      "text/plain": {
       "height": 240,
       "width": 240
      }
     },
     "output_type": "display_data"
    }
   ],
   "source": [
    "ggplot(data = df, aes(date, BEACH)) + geom_line() + ylab(\"stranding\") +  xlab(\"date\")+ theme_economist()+\n",
    "            ggtitle(\"BeachCombers data\")"
   ]
  },
  {
   "cell_type": "code",
   "execution_count": 5,
   "metadata": {},
   "outputs": [
    {
     "data": {
      "image/png": "[encoded data removed]",
      "text/plain": [
       "plot without title"
      ]
     },
     "metadata": {
      "image/png": {
       "height": 240,
       "width": 540
      },
      "text/plain": {
       "height": 240,
       "width": 540
      }
     },
     "output_type": "display_data"
    }
   ],
   "source": [
    "options(repr.plot.width=9, repr.plot.height=4)\n",
    "ggplot(df, aes(y=WRMD, x = Month)) + geom_boxplot(aes(group=Month)) + ggtitle(\"Monthly Admissions in WRMD\")+\n",
    "scale_x_discrete(limits=c('January','February','March', 'April', 'May', 'June', 'July', 'August', 'September', 'October', 'November', 'December'))+\n",
    "theme_economist()"
   ]
  },
  {
   "cell_type": "code",
   "execution_count": 6,
   "metadata": {},
   "outputs": [
    {
     "data": {
      "image/png": "[encoded data removed]",
      "text/plain": [
       "plot without title"
      ]
     },
     "metadata": {
      "image/png": {
       "height": 240,
       "width": 540
      },
      "text/plain": {
       "height": 240,
       "width": 540
      }
     },
     "output_type": "display_data"
    }
   ],
   "source": [
    "options(repr.plot.width=9, repr.plot.height=4)\n",
    "ggplot(df, aes(y=BEACH, x = Month)) + geom_boxplot(aes(group=Month)) + ggtitle(\"Monthly Stranding BeachCombers\")+\n",
    "scale_x_discrete(limits=c('January','February','March', 'April', 'May', 'June', 'July', 'August', 'September', 'October', 'November', 'December'))+\n",
    "theme_economist()"
   ]
  },
  {
   "cell_type": "code",
   "execution_count": 7,
   "metadata": {
    "cell_style": "split"
   },
   "outputs": [
    {
     "data": {
      "text/plain": [
       "\n",
       "\tAugmented Dickey-Fuller Test\n",
       "\n",
       "data:  df$WRMD\n",
       "Dickey-Fuller = -3.0377, Lag order = 0, p-value = 0.1543\n",
       "alternative hypothesis: stationary\n"
      ]
     },
     "metadata": {},
     "output_type": "display_data"
    }
   ],
   "source": [
    "adf.test(df$WRMD, alternative = \"stationary\", k=0)"
   ]
  },
  {
   "cell_type": "code",
   "execution_count": 8,
   "metadata": {
    "cell_style": "split"
   },
   "outputs": [
    {
     "data": {
      "text/plain": [
       "\n",
       "\tAugmented Dickey-Fuller Test\n",
       "\n",
       "data:  df$BEACH\n",
       "Dickey-Fuller = -3.0649, Lag order = 0, p-value = 0.1432\n",
       "alternative hypothesis: stationary\n"
      ]
     },
     "metadata": {},
     "output_type": "display_data"
    }
   ],
   "source": [
    "adf.test(df$BEACH, alternative = \"stationary\", k=0)"
   ]
  },
  {
   "cell_type": "code",
   "execution_count": 9,
   "metadata": {
    "cell_style": "split"
   },
   "outputs": [
    {
     "data": {
      "image/png": "[encoded data removed]",
      "text/plain": [
       "Plot with title \"Series  df$WRMD\""
      ]
     },
     "metadata": {
      "image/png": {
       "height": 240,
       "width": 540
      },
      "text/plain": {
       "height": 240,
       "width": 540
      }
     },
     "output_type": "display_data"
    }
   ],
   "source": [
    "acf(df$WRMD)"
   ]
  },
  {
   "cell_type": "code",
   "execution_count": 10,
   "metadata": {
    "cell_style": "split"
   },
   "outputs": [
    {
     "data": {
      "image/png": "[encoded data removed]",
      "text/plain": [
       "Plot with title \"Series  df$BEACH\""
      ]
     },
     "metadata": {
      "image/png": {
       "height": 240,
       "width": 540
      },
      "text/plain": {
       "height": 240,
       "width": 540
      }
     },
     "output_type": "display_data"
    }
   ],
   "source": [
    "acf(df$BEACH)"
   ]
  },
  {
   "cell_type": "markdown",
   "metadata": {},
   "source": [
    "in this instance it is just 2 lags, so I conclude I can proceed with modeling without reworking my data\n",
    "take a note of the lags number as you will need it in modeling"
   ]
  },
  {
   "cell_type": "code",
   "execution_count": 11,
   "metadata": {
    "cell_style": "split"
   },
   "outputs": [
    {
     "data": {
      "image/png": "[encoded data removed]",
      "text/plain": [
       "Plot with title \"Series  df$WRMD\""
      ]
     },
     "metadata": {
      "image/png": {
       "height": 240,
       "width": 540
      },
      "text/plain": {
       "height": 240,
       "width": 540
      }
     },
     "output_type": "display_data"
    }
   ],
   "source": [
    "pacf(df$WRMD) #check if you are seeing some pattern here"
   ]
  },
  {
   "cell_type": "code",
   "execution_count": 12,
   "metadata": {
    "cell_style": "split"
   },
   "outputs": [
    {
     "data": {
      "image/png": "[encoded data removed]",
      "text/plain": [
       "Plot with title \"Series  df$BEACH\""
      ]
     },
     "metadata": {
      "image/png": {
       "height": 240,
       "width": 540
      },
      "text/plain": {
       "height": 240,
       "width": 540
      }
     },
     "output_type": "display_data"
    }
   ],
   "source": [
    "pacf(df$BEACH) #check if you are seeing some pattern here"
   ]
  },
  {
   "cell_type": "markdown",
   "metadata": {},
   "source": [
    "in case there is a long tail in ACF graph, or you are getting 2 or more high peaks in PACF that are repeating with some regularity, you will need to work with your data further to make it suitable for time series regression modeling\n",
    "methods may include log transformation, or differencing"
   ]
  },
  {
   "cell_type": "markdown",
   "metadata": {},
   "source": [
    "# Simple linear model for Beachcombers data"
   ]
  },
  {
   "cell_type": "code",
   "execution_count": 13,
   "metadata": {},
   "outputs": [
    {
     "data": {
      "image/png": "[encoded data removed]",
      "text/plain": [
       "Plot with title \"WRMD vs BeachCombers\""
      ]
     },
     "metadata": {
      "image/png": {
       "height": 360,
       "width": 480
      },
      "text/plain": {
       "height": 360,
       "width": 480
      }
     },
     "output_type": "display_data"
    }
   ],
   "source": [
    "options(repr.plot.width=8, repr.plot.height=6)\n",
    "par(mfrow=c(3,1))\n",
    "acf(df$BEACH, 48, main='BeachCombers')\n",
    "acf(df$WRMD, 48, main='WRMD')\n",
    "ccf(df$WRMD,df$BEACH, 48, main='WRMD vs BeachCombers', ylab='CCF')"
   ]
  },
  {
   "cell_type": "code",
   "execution_count": 14,
   "metadata": {},
   "outputs": [
    {
     "data": {
      "text/plain": [
       "       Length Class  Mode     \n",
       "acf    97     -none- numeric  \n",
       "type    1     -none- character\n",
       "n.used  1     -none- numeric  \n",
       "lag    97     -none- numeric  \n",
       "series  1     -none- character\n",
       "snames  1     -none- character"
      ]
     },
     "metadata": {},
     "output_type": "display_data"
    }
   ],
   "source": [
    "cross = ccf(df$WRMD,df$BEACH, 48, main='WRMD vs BeachCombers', ylab='CCF', plot = FALSE)\n",
    "summary(cross)"
   ]
  },
  {
   "cell_type": "code",
   "execution_count": 15,
   "metadata": {},
   "outputs": [],
   "source": [
    "upperCI <- qnorm((1+0.95)/2)/sqrt(cross$n.used)\n",
    "lowerCI <- -qnorm((1+0.95)/2)/sqrt(cross$n.used)"
   ]
  },
  {
   "cell_type": "code",
   "execution_count": 16,
   "metadata": {},
   "outputs": [],
   "source": [
    "ind.max <- which(abs(cross$acf)==max(abs(cross$acf)))\n",
    "max.cor <- cross$acf[ind.max]\n",
    "lag.opt <- cross$lag[ind.max] "
   ]
  },
  {
   "cell_type": "code",
   "execution_count": 17,
   "metadata": {},
   "outputs": [
    {
     "data": {
      "text/html": [
       "0.792330115010064"
      ],
      "text/latex": [
       "0.792330115010064"
      ],
      "text/markdown": [
       "0.792330115010064"
      ],
      "text/plain": [
       "[1] 0.7923301"
      ]
     },
     "metadata": {},
     "output_type": "display_data"
    }
   ],
   "source": [
    "max.cor"
   ]
  },
  {
   "cell_type": "code",
   "execution_count": 18,
   "metadata": {},
   "outputs": [
    {
     "data": {
      "text/html": [
       "0.792330115010064"
      ],
      "text/latex": [
       "0.792330115010064"
      ],
      "text/markdown": [
       "0.792330115010064"
      ],
      "text/plain": [
       "[1] 0.7923301"
      ]
     },
     "metadata": {},
     "output_type": "display_data"
    }
   ],
   "source": [
    "max(cross$acf)"
   ]
  },
  {
   "cell_type": "code",
   "execution_count": 19,
   "metadata": {},
   "outputs": [
    {
     "data": {
      "text/html": [
       "0.792330115010064"
      ],
      "text/latex": [
       "0.792330115010064"
      ],
      "text/markdown": [
       "0.792330115010064"
      ],
      "text/plain": [
       "[1] 0.7923301"
      ]
     },
     "metadata": {},
     "output_type": "display_data"
    }
   ],
   "source": [
    "cross$acf[ind.max]"
   ]
  },
  {
   "cell_type": "code",
   "execution_count": 20,
   "metadata": {},
   "outputs": [
    {
     "data": {
      "text/html": [
       "1.68102642916779e-10"
      ],
      "text/latex": [
       "1.68102642916779e-10"
      ],
      "text/markdown": [
       "1.68102642916779e-10"
      ],
      "text/plain": [
       "[1] 1.681026e-10"
      ]
     },
     "metadata": {},
     "output_type": "display_data"
    }
   ],
   "source": [
    "2 * (1 - pnorm(abs(max.cor), mean = 0, sd = 1/sqrt(cross$n.used)))"
   ]
  },
  {
   "cell_type": "code",
   "execution_count": 47,
   "metadata": {
    "scrolled": false
   },
   "outputs": [
    {
     "name": "stderr",
     "output_type": "stream",
     "text": [
      "Warning message in grid.Call(C_textBounds, as.graphicsAnnot(x$label), x$x, x$y, :\n",
      "\"font family not found in Windows font database\"\n",
      "Warning message in grid.Call(C_textBounds, as.graphicsAnnot(x$label), x$x, x$y, :\n",
      "\"font family not found in Windows font database\"\n",
      "Warning message in grid.Call(C_textBounds, as.graphicsAnnot(x$label), x$x, x$y, :\n",
      "\"font family not found in Windows font database\"\n",
      "Warning message in grid.Call(C_textBounds, as.graphicsAnnot(x$label), x$x, x$y, :\n",
      "\"font family not found in Windows font database\"\n",
      "Warning message in grid.Call(C_textBounds, as.graphicsAnnot(x$label), x$x, x$y, :\n",
      "\"font family not found in Windows font database\"\n",
      "Warning message in grid.Call(C_textBounds, as.graphicsAnnot(x$label), x$x, x$y, :\n",
      "\"font family not found in Windows font database\"\n",
      "Warning message in grid.Call(C_textBounds, as.graphicsAnnot(x$label), x$x, x$y, :\n",
      "\"font family not found in Windows font database\"\n",
      "Warning message in grid.Call(C_textBounds, as.graphicsAnnot(x$label), x$x, x$y, :\n",
      "\"font family not found in Windows font database\"\n",
      "Warning message in grid.Call(C_textBounds, as.graphicsAnnot(x$label), x$x, x$y, :\n",
      "\"font family not found in Windows font database\"\n",
      "Warning message in grid.Call(C_textBounds, as.graphicsAnnot(x$label), x$x, x$y, :\n",
      "\"font family not found in Windows font database\"\n",
      "Warning message in grid.Call.graphics(C_text, as.graphicsAnnot(x$label), x$x, x$y, :\n",
      "\"font family not found in Windows font database\"\n",
      "Warning message in grid.Call(C_textBounds, as.graphicsAnnot(x$label), x$x, x$y, :\n",
      "\"font family not found in Windows font database\"\n"
     ]
    },
    {
     "data": {
      "image/png": "[encoded data removed]",
      "text/plain": [
       "plot without title"
      ]
     },
     "metadata": {
      "image/png": {
       "height": 360,
       "width": 360
      },
      "text/plain": {
       "height": 360,
       "width": 360
      }
     },
     "output_type": "display_data"
    }
   ],
   "source": [
    "cross %>% autoplot + xlab('Lag (months)')+ ylab('Cross correlation (ccf)') + \n",
    "ggtitle('Cross correlation (BC vs WMMEAS)', subtitle = waiver())+\n",
    "theme(text=element_text(family=\"Times New Roman\", face=\"bold\", size=12))\n",
    "ggsave(\"C:/Users/Falco/Desktop/directory/WRMD_paper/outputs/final_figures/CCF.svg\", width = 6, height = 4, dpi = 600)"
   ]
  },
  {
   "cell_type": "code",
   "execution_count": 22,
   "metadata": {},
   "outputs": [
    {
     "data": {
      "text/plain": [
       "\n",
       "Call:\n",
       "lm(formula = df.BEACH ~ WRMD1, data = Lagged, na.action = NULL)\n",
       "\n",
       "Residuals:\n",
       "    Min      1Q  Median      3Q     Max \n",
       "-390.03 -121.97  -43.64   85.01  949.49 \n",
       "\n",
       "Coefficients:\n",
       "            Estimate Std. Error t value Pr(>|t|)    \n",
       "(Intercept)  81.9022    46.5470   1.760   0.0833 .  \n",
       "WRMD1         1.3344     0.2343   5.694 3.49e-07 ***\n",
       "---\n",
       "Signif. codes:  0 '***' 0.001 '**' 0.01 '*' 0.05 '.' 0.1 ' ' 1\n",
       "\n",
       "Residual standard error: 231.4 on 63 degrees of freedom\n",
       "Multiple R-squared:  0.3398,\tAdjusted R-squared:  0.3293 \n",
       "F-statistic: 32.43 on 1 and 63 DF,  p-value: 3.488e-07\n"
      ]
     },
     "metadata": {},
     "output_type": "display_data"
    }
   ],
   "source": [
    "Lagged = ts.intersect(df$BEACH, WRMD1=lag(df$WRMD,-1), dframe=TRUE)\n",
    "summary(lm(df.BEACH~WRMD1, data=Lagged, na.action=NULL))"
   ]
  },
  {
   "cell_type": "markdown",
   "metadata": {},
   "source": [
    "## ARIMA"
   ]
  },
  {
   "cell_type": "code",
   "execution_count": 23,
   "metadata": {},
   "outputs": [],
   "source": [
    "Lagged_training<-Lagged[1:(dim(Lagged)[1]-12),]"
   ]
  },
  {
   "cell_type": "code",
   "execution_count": 24,
   "metadata": {},
   "outputs": [
    {
     "name": "stdout",
     "output_type": "stream",
     "text": [
      "\n",
      " ARIMA(2,0,2) with non-zero mean : 721.7972\n",
      " ARIMA(0,0,0) with non-zero mean : 760.3571\n",
      " ARIMA(1,0,0) with non-zero mean : 722.4001\n",
      " ARIMA(0,0,1) with non-zero mean : 729.6278\n",
      " ARIMA(0,0,0) with zero mean     : 797.4213\n",
      " ARIMA(1,0,2) with non-zero mean : 719.9729\n",
      " ARIMA(0,0,2) with non-zero mean : 719.4042\n",
      " ARIMA(0,0,3) with non-zero mean : 720.339\n",
      " ARIMA(1,0,1) with non-zero mean : 719.3517\n",
      " ARIMA(2,0,1) with non-zero mean : 719.6594\n",
      " ARIMA(2,0,0) with non-zero mean : 717.304\n",
      " ARIMA(3,0,0) with non-zero mean : 719.612\n",
      " ARIMA(3,0,1) with non-zero mean : 721.9843\n",
      " ARIMA(2,0,0) with zero mean     : 723.9376\n",
      "\n",
      " Best model: ARIMA(2,0,0) with non-zero mean \n",
      "\n"
     ]
    },
    {
     "data": {
      "text/plain": [
       "Series: Lagged_training$df.BEACH \n",
       "ARIMA(2,0,0) with non-zero mean \n",
       "\n",
       "Coefficients:\n",
       "         ar1      ar2      mean\n",
       "      0.9874  -0.3584  320.6472\n",
       "s.e.  0.1263   0.1260   69.9644\n",
       "\n",
       "sigma^2 estimated as 38886:  log likelihood=-354.24\n",
       "AIC=716.47   AICc=717.3   BIC=724.35"
      ]
     },
     "metadata": {},
     "output_type": "display_data"
    }
   ],
   "source": [
    "library(forecast)\n",
    "auto.arima(Lagged_training$df.BEACH, trace=TRUE)"
   ]
  },
  {
   "cell_type": "code",
   "execution_count": 25,
   "metadata": {},
   "outputs": [
    {
     "data": {
      "text/plain": [
       "\n",
       "z test of coefficients:\n",
       "\n",
       "                       Estimate Std. Error z value  Pr(>|z|)    \n",
       "ar1                     0.87966    0.15011  5.8600 4.628e-09 ***\n",
       "ar2                    -0.37480    0.13550 -2.7660  0.005675 ** \n",
       "sar1                   -0.11540    0.12946 -0.8914  0.372725    \n",
       "sar2                    0.22389    0.20128  1.1123  0.265997    \n",
       "intercept             181.11801   87.45486  2.0710  0.038360 *  \n",
       "Lagged_training$WRMD1   0.89166    0.42724  2.0870  0.036887 *  \n",
       "---\n",
       "Signif. codes:  0 '***' 0.001 '**' 0.01 '*' 0.05 '.' 0.1 ' ' 1\n"
      ]
     },
     "metadata": {},
     "output_type": "display_data"
    }
   ],
   "source": [
    "model = arima(Lagged_training$df.BEACH, order = c(2,0,0),\n",
    "              seasonal=list(order=c(2,0,0), period=12), \n",
    "              xreg = Lagged_training$WRMD1)\n",
    "coeftest(model) "
   ]
  },
  {
   "cell_type": "code",
   "execution_count": 26,
   "metadata": {},
   "outputs": [
    {
     "data": {
      "text/plain": [
       "\n",
       "z test of coefficients:\n",
       "\n",
       "                       Estimate Std. Error z value Pr(>|z|)    \n",
       "ar1                     0.84916    0.15433  5.5022 3.75e-08 ***\n",
       "ar2                    -0.30244    0.13207 -2.2901 0.022017 *  \n",
       "intercept             216.73836   82.21696  2.6362 0.008385 ** \n",
       "Lagged_training$WRMD1   0.65065    0.37638  1.7287 0.083859 .  \n",
       "---\n",
       "Signif. codes:  0 '***' 0.001 '**' 0.01 '*' 0.05 '.' 0.1 ' ' 1\n"
      ]
     },
     "metadata": {},
     "output_type": "display_data"
    }
   ],
   "source": [
    "model = arima(Lagged_training$df.BEACH, order = c(2,0,0),\n",
    "              xreg = Lagged_training$WRMD1)\n",
    "coeftest(model) "
   ]
  },
  {
   "cell_type": "code",
   "execution_count": 27,
   "metadata": {},
   "outputs": [
    {
     "data": {
      "text/plain": [
       "\n",
       "z test of coefficients:\n",
       "\n",
       "                       Estimate Std. Error z value Pr(>|z|)   \n",
       "ar1                    0.157272   0.247795  0.6347 0.525632   \n",
       "ar2                   -0.029669   0.219341 -0.1353 0.892403   \n",
       "Lagged_training$WRMD1  1.386030   0.466994  2.9680 0.002998 **\n",
       "---\n",
       "Signif. codes:  0 '***' 0.001 '**' 0.01 '*' 0.05 '.' 0.1 ' ' 1\n"
      ]
     },
     "metadata": {},
     "output_type": "display_data"
    }
   ],
   "source": [
    "model = arima(Lagged_training$df.BEACH, order = c(2,0,0),\n",
    "              seasonal=list(order=c(0,2,0), period=12), \n",
    "              xreg = Lagged_training$WRMD1)\n",
    "coeftest(model) "
   ]
  },
  {
   "cell_type": "code",
   "execution_count": 28,
   "metadata": {
    "scrolled": true
   },
   "outputs": [],
   "source": [
    "df_temp = df[,c('WRMD', 'BEACH')]"
   ]
  },
  {
   "cell_type": "code",
   "execution_count": 29,
   "metadata": {},
   "outputs": [],
   "source": [
    "# Create matrix of numeric predictors\n",
    "xreg <- cbind(WRMD1 = Lagged_training$WRMD)\n",
    "Beach <- ts(Lagged_training$df.BEACH)"
   ]
  },
  {
   "cell_type": "code",
   "execution_count": 30,
   "metadata": {},
   "outputs": [
    {
     "name": "stdout",
     "output_type": "stream",
     "text": [
      "\n",
      " ARIMA(2,0,2) with non-zero mean : 720.9833\n",
      " ARIMA(0,0,0) with non-zero mean : 739.621\n",
      " ARIMA(1,0,0) with non-zero mean : 719.3651\n",
      " ARIMA(0,0,1) with non-zero mean : 721.946\n",
      " ARIMA(0,0,0) with zero mean     : 741.1\n",
      " ARIMA(2,0,0) with non-zero mean : 716.8395\n",
      " ARIMA(3,0,0) with non-zero mean : 718.5923\n",
      " ARIMA(2,0,1) with non-zero mean : 718.8538\n",
      " ARIMA(1,0,1) with non-zero mean : 718.614\n",
      " ARIMA(3,0,1) with non-zero mean : 721.1456\n",
      " ARIMA(2,0,0) with zero mean     : 721.7837\n",
      "\n",
      " Best model: Regression with ARIMA(2,0,0) errors \n",
      "\n"
     ]
    },
    {
     "data": {
      "text/plain": [
       "Series: Beach \n",
       "Regression with ARIMA(2,0,0) errors \n",
       "\n",
       "Coefficients:\n",
       "         ar1      ar2  intercept   WRMD1\n",
       "      0.8492  -0.3024   216.7384  0.6507\n",
       "s.e.  0.1543   0.1321    82.2170  0.3764\n",
       "\n",
       "sigma^2 estimated as 37761:  log likelihood=-352.78\n",
       "AIC=715.56   AICc=716.84   BIC=725.41"
      ]
     },
     "metadata": {},
     "output_type": "display_data"
    }
   ],
   "source": [
    "fit = auto.arima(Beach, xreg=xreg, trace=TRUE)\n",
    "fit"
   ]
  },
  {
   "cell_type": "code",
   "execution_count": 31,
   "metadata": {},
   "outputs": [
    {
     "name": "stdout",
     "output_type": "stream",
     "text": [
      "\n",
      "\tLjung-Box test\n",
      "\n",
      "data:  Residuals from Regression with ARIMA(2,0,0) errors\n",
      "Q* = 4.3106, df = 6, p-value = 0.6347\n",
      "\n",
      "Model df: 4.   Total lags used: 10\n",
      "\n"
     ]
    },
    {
     "data": {
      "image/png": "[encoded data removed]",
      "text/plain": [
       "plot without title"
      ]
     },
     "metadata": {
      "image/png": {
       "height": 360,
       "width": 480
      },
      "text/plain": {
       "height": 360,
       "width": 480
      }
     },
     "output_type": "display_data"
    }
   ],
   "source": [
    "checkresiduals(fit)"
   ]
  },
  {
   "cell_type": "code",
   "execution_count": 32,
   "metadata": {},
   "outputs": [
    {
     "data": {
      "text/plain": [
       "\n",
       "z test of coefficients:\n",
       "\n",
       "           Estimate Std. Error z value Pr(>|z|)    \n",
       "ar1         0.84916    0.15433  5.5022 3.75e-08 ***\n",
       "ar2        -0.30244    0.13207 -2.2901 0.022017 *  \n",
       "intercept 216.73836   82.21696  2.6362 0.008385 ** \n",
       "WRMD1       0.65065    0.37638  1.7287 0.083859 .  \n",
       "---\n",
       "Signif. codes:  0 '***' 0.001 '**' 0.01 '*' 0.05 '.' 0.1 ' ' 1\n"
      ]
     },
     "metadata": {},
     "output_type": "display_data"
    }
   ],
   "source": [
    "coeftest(fit) "
   ]
  },
  {
   "cell_type": "code",
   "execution_count": 33,
   "metadata": {},
   "outputs": [
    {
     "name": "stdout",
     "output_type": "stream",
     "text": [
      "\n",
      "\tLjung-Box test\n",
      "\n",
      "data:  Residuals from Regression with ARIMA(2,0,0)(0,2,0)[12] errors\n",
      "Q* = 3.3711, df = 7, p-value = 0.8487\n",
      "\n",
      "Model df: 3.   Total lags used: 10\n",
      "\n"
     ]
    },
    {
     "data": {
      "image/png": "[encoded data removed]",
      "text/plain": [
       "plot without title"
      ]
     },
     "metadata": {
      "image/png": {
       "height": 360,
       "width": 480
      },
      "text/plain": {
       "height": 360,
       "width": 480
      }
     },
     "output_type": "display_data"
    }
   ],
   "source": [
    "fit3 <- Arima(Lagged_training$df.BEACH, order = c(2,0,0),\n",
    "              seasonal=list(order=c(0,2,0), period=12), \n",
    "              xreg = Lagged_training$WRMD1)\n",
    "checkresiduals(fit3)"
   ]
  },
  {
   "cell_type": "code",
   "execution_count": 34,
   "metadata": {},
   "outputs": [],
   "source": [
    "m1 = Arima(Lagged_training$df.BEACH, order = c(2,0,0),\n",
    "              seasonal=list(order=c(0,0,0), period=12), \n",
    "              xreg = Lagged_training$WRMD1)\n",
    "m2 = Arima(Lagged_training$df.BEACH, order = c(2,0,0),\n",
    "                seasonal=list(order=c(0,1,2), period=12), \n",
    "              xreg = Lagged_training$WRMD1)\n",
    "m3 = Arima(Lagged_training$df.BEACH, order = c(2,0,0),\n",
    "              seasonal=list(order=c(1,1,1), period=12), \n",
    "              xreg = Lagged_training$WRMD1)\n",
    "m4 = Arima(Lagged_training$df.BEACH, order = c(2,0,0),\n",
    "              seasonal=list(order=c(0,1,1), period=12), \n",
    "              xreg = Lagged_training$WRMD1)\n",
    "m5 = Arima(Lagged_training$df.BEACH, order = c(2,0,0),\n",
    "              seasonal=list(order=c(0,1,0), period=12), \n",
    "              xreg = Lagged_training$WRMD1)\n",
    "m6 = Arima(Lagged_training$df.BEACH, order = c(2,0,0),\n",
    "              seasonal=list(order=c(2,2,1), period=12), \n",
    "              xreg = Lagged_training$WRMD1)\n",
    "m7 = Arima(Lagged_training$df.BEACH, order = c(2,0,0),\n",
    "              seasonal=list(order=c(2,2,0), period=12), \n",
    "              xreg = Lagged_training$WRMD1)"
   ]
  },
  {
   "cell_type": "code",
   "execution_count": 35,
   "metadata": {},
   "outputs": [],
   "source": [
    "models = c(m1, m2, m3, m4, m5, m6, m7 )"
   ]
  },
  {
   "cell_type": "code",
   "execution_count": 36,
   "metadata": {},
   "outputs": [
    {
     "data": {
      "text/html": [
       "716.83948076498"
      ],
      "text/latex": [
       "716.83948076498"
      ],
      "text/markdown": [
       "716.83948076498"
      ],
      "text/plain": [
       "[1] 716.8395"
      ]
     },
     "metadata": {},
     "output_type": "display_data"
    }
   ],
   "source": [
    "m1$aicc"
   ]
  },
  {
   "cell_type": "code",
   "execution_count": 37,
   "metadata": {},
   "outputs": [
    {
     "data": {
      "text/html": [
       "571.414281352967"
      ],
      "text/latex": [
       "571.414281352967"
      ],
      "text/markdown": [
       "571.414281352967"
      ],
      "text/plain": [
       "[1] 571.4143"
      ]
     },
     "metadata": {},
     "output_type": "display_data"
    }
   ],
   "source": [
    "m2$aicc"
   ]
  },
  {
   "cell_type": "code",
   "execution_count": 38,
   "metadata": {},
   "outputs": [
    {
     "data": {
      "text/html": [
       "572.023824103508"
      ],
      "text/latex": [
       "572.023824103508"
      ],
      "text/markdown": [
       "572.023824103508"
      ],
      "text/plain": [
       "[1] 572.0238"
      ]
     },
     "metadata": {},
     "output_type": "display_data"
    }
   ],
   "source": [
    "m3$aicc"
   ]
  },
  {
   "cell_type": "code",
   "execution_count": 39,
   "metadata": {},
   "outputs": [
    {
     "data": {
      "text/html": [
       "574.4416616822"
      ],
      "text/latex": [
       "574.4416616822"
      ],
      "text/markdown": [
       "574.4416616822"
      ],
      "text/plain": [
       "[1] 574.4417"
      ]
     },
     "metadata": {},
     "output_type": "display_data"
    }
   ],
   "source": [
    "m4$aicc"
   ]
  },
  {
   "cell_type": "code",
   "execution_count": 40,
   "metadata": {},
   "outputs": [
    {
     "data": {
      "text/html": [
       "593.067195314306"
      ],
      "text/latex": [
       "593.067195314306"
      ],
      "text/markdown": [
       "593.067195314306"
      ],
      "text/plain": [
       "[1] 593.0672"
      ]
     },
     "metadata": {},
     "output_type": "display_data"
    }
   ],
   "source": [
    "m5$aicc"
   ]
  },
  {
   "cell_type": "code",
   "execution_count": 41,
   "metadata": {},
   "outputs": [
    {
     "data": {
      "text/html": [
       "449.724825803953"
      ],
      "text/latex": [
       "449.724825803953"
      ],
      "text/markdown": [
       "449.724825803953"
      ],
      "text/plain": [
       "[1] 449.7248"
      ]
     },
     "metadata": {},
     "output_type": "display_data"
    }
   ],
   "source": [
    "m6$aicc"
   ]
  },
  {
   "cell_type": "code",
   "execution_count": 42,
   "metadata": {},
   "outputs": [
    {
     "data": {
      "text/html": [
       "446.212311703852"
      ],
      "text/latex": [
       "446.212311703852"
      ],
      "text/markdown": [
       "446.212311703852"
      ],
      "text/plain": [
       "[1] 446.2123"
      ]
     },
     "metadata": {},
     "output_type": "display_data"
    }
   ],
   "source": [
    "m7$aicc"
   ]
  },
  {
   "cell_type": "code",
   "execution_count": 43,
   "metadata": {},
   "outputs": [
    {
     "name": "stdout",
     "output_type": "stream",
     "text": [
      "\n",
      "\tLjung-Box test\n",
      "\n",
      "data:  Residuals from Regression with ARIMA(2,0,0)(2,2,0)[12] errors\n",
      "Q* = 6.5913, df = 7, p-value = 0.4726\n",
      "\n",
      "Model df: 5.   Total lags used: 12\n",
      "\n"
     ]
    },
    {
     "data": {
      "image/png": "[encoded data removed]",
      "text/plain": [
       "plot without title"
      ]
     },
     "metadata": {
      "image/png": {
       "height": 360,
       "width": 360
      },
      "text/plain": {
       "height": 360,
       "width": 360
      }
     },
     "output_type": "display_data"
    }
   ],
   "source": [
    "options(repr.plot.width=6, repr.plot.height=6)\n",
    "fit <- Arima(Lagged_training$df.BEACH, order = c(2,0,0),\n",
    "              seasonal=list(order=c(2,2,0), period=12), \n",
    "              xreg = Lagged_training$WRMD1)\n",
    "checkresiduals(fit, lag=12)"
   ]
  },
  {
   "cell_type": "code",
   "execution_count": 44,
   "metadata": {},
   "outputs": [
    {
     "data": {
      "text/plain": [
       "\n",
       "z test of coefficients:\n",
       "\n",
       "     Estimate Std. Error z value  Pr(>|z|)    \n",
       "ar1   0.51127    0.23869  2.1420  0.032196 *  \n",
       "ar2  -0.24211    0.21096 -1.1477  0.251109    \n",
       "sar1 -1.42981    0.18265 -7.8283 4.944e-15 ***\n",
       "sar2 -0.75722    0.18994 -3.9866 6.702e-05 ***\n",
       "xreg  1.74312    0.50749  3.4348  0.000593 ***\n",
       "---\n",
       "Signif. codes:  0 '***' 0.001 '**' 0.01 '*' 0.05 '.' 0.1 ' ' 1\n"
      ]
     },
     "metadata": {},
     "output_type": "display_data"
    }
   ],
   "source": [
    "coeftest(fit)"
   ]
  },
  {
   "cell_type": "code",
   "execution_count": 45,
   "metadata": {},
   "outputs": [],
   "source": [
    "Predict_lagged = tail(Lagged,n = 12)\n",
    "Predict_lagged$forecast1=predict(fit, 12, newxreg = Predict_lagged$WRMD1)$pred\n",
    "Predict_lagged$forecast2=predict(m6, 12, newxreg = Predict_lagged$WRMD1)$pred\n",
    "Predict_lagged$forecast3=predict(m5, 12, newxreg = Predict_lagged$WRMD1)$pred"
   ]
  },
  {
   "cell_type": "code",
   "execution_count": 46,
   "metadata": {},
   "outputs": [
    {
     "data": {
      "text/html": [
       "<dl>\n",
       "\t<dt>$pred</dt>\n",
       "\t\t<dd>A Time Series:<br><ol class=list-inline>\n",
       "\t<li>37.6346269196884</li>\n",
       "\t<li>-14.7491760197512</li>\n",
       "\t<li>-338.797195193153</li>\n",
       "\t<li>-43.6912856936316</li>\n",
       "\t<li>753.789661221805</li>\n",
       "\t<li>966.616459098472</li>\n",
       "\t<li>339.885124305838</li>\n",
       "\t<li>-1.7996177553502</li>\n",
       "\t<li>-170.721065852202</li>\n",
       "\t<li>135.371861674242</li>\n",
       "\t<li>508.021366189228</li>\n",
       "\t<li>311.867102524243</li>\n",
       "</ol>\n",
       "</dd>\n",
       "\t<dt>$se</dt>\n",
       "\t\t<dd>A Time Series:<br><ol class=list-inline>\n",
       "\t<li>248.154736815635</li>\n",
       "\t<li>278.707635435106</li>\n",
       "\t<li>278.748734784192</li>\n",
       "\t<li>280.178651844595</li>\n",
       "\t<li>280.613321195703</li>\n",
       "\t<li>280.615627978143</li>\n",
       "\t<li>280.633853556299</li>\n",
       "\t<li>280.640357785963</li>\n",
       "\t<li>280.640430865285</li>\n",
       "\t<li>280.640660543404</li>\n",
       "\t<li>280.64075694113</li>\n",
       "\t<li>280.640758763502</li>\n",
       "</ol>\n",
       "</dd>\n",
       "</dl>\n"
      ],
      "text/latex": [
       "\\begin{description}\n",
       "\\item[\\$pred] A Time Series:\\\\\\begin{enumerate*}\n",
       "\\item 37.6346269196884\n",
       "\\item -14.7491760197512\n",
       "\\item -338.797195193153\n",
       "\\item -43.6912856936316\n",
       "\\item 753.789661221805\n",
       "\\item 966.616459098472\n",
       "\\item 339.885124305838\n",
       "\\item -1.7996177553502\n",
       "\\item -170.721065852202\n",
       "\\item 135.371861674242\n",
       "\\item 508.021366189228\n",
       "\\item 311.867102524243\n",
       "\\end{enumerate*}\n",
       "\n",
       "\\item[\\$se] A Time Series:\\\\\\begin{enumerate*}\n",
       "\\item 248.154736815635\n",
       "\\item 278.707635435106\n",
       "\\item 278.748734784192\n",
       "\\item 280.178651844595\n",
       "\\item 280.613321195703\n",
       "\\item 280.615627978143\n",
       "\\item 280.633853556299\n",
       "\\item 280.640357785963\n",
       "\\item 280.640430865285\n",
       "\\item 280.640660543404\n",
       "\\item 280.64075694113\n",
       "\\item 280.640758763502\n",
       "\\end{enumerate*}\n",
       "\n",
       "\\end{description}\n"
      ],
      "text/markdown": [
       "$pred\n",
       ":   A Time Series:  \n",
       "1. 37.6346269196884\n",
       "2. -14.7491760197512\n",
       "3. -338.797195193153\n",
       "4. -43.6912856936316\n",
       "5. 753.789661221805\n",
       "6. 966.616459098472\n",
       "7. 339.885124305838\n",
       "8. -1.7996177553502\n",
       "9. -170.721065852202\n",
       "10. 135.371861674242\n",
       "11. 508.021366189228\n",
       "12. 311.867102524243\n",
       "\n",
       "\n",
       "\n",
       "$se\n",
       ":   A Time Series:  \n",
       "1. 248.154736815635\n",
       "2. 278.707635435106\n",
       "3. 278.748734784192\n",
       "4. 280.178651844595\n",
       "5. 280.613321195703\n",
       "6. 280.615627978143\n",
       "7. 280.633853556299\n",
       "8. 280.640357785963\n",
       "9. 280.640430865285\n",
       "10. 280.640660543404\n",
       "11. 280.64075694113\n",
       "12. 280.640758763502\n",
       "\n",
       "\n",
       "\n",
       "\n",
       "\n"
      ],
      "text/plain": [
       "$pred\n",
       "Time Series:\n",
       "Start = 54 \n",
       "End = 65 \n",
       "Frequency = 1 \n",
       " [1]   37.634627  -14.749176 -338.797195  -43.691286  753.789661  966.616459\n",
       " [7]  339.885124   -1.799618 -170.721066  135.371862  508.021366  311.867103\n",
       "\n",
       "$se\n",
       "Time Series:\n",
       "Start = 54 \n",
       "End = 65 \n",
       "Frequency = 1 \n",
       " [1] 248.1547 278.7076 278.7487 280.1787 280.6133 280.6156 280.6339 280.6404\n",
       " [9] 280.6404 280.6407 280.6408 280.6408\n"
      ]
     },
     "metadata": {},
     "output_type": "display_data"
    }
   ],
   "source": [
    "predict(fit, 12, newxreg = Predict_lagged$WRMD1)"
   ]
  },
  {
   "cell_type": "code",
   "execution_count": 47,
   "metadata": {},
   "outputs": [
    {
     "name": "stdout",
     "output_type": "stream",
     "text": [
      "\"\",\"df.BEACH\",\"WRMD1\",\"forecast1\",\"forecast2\",\"forecast3\"\n",
      "\"54\",229,140,37.6346269196884,38.3744909319526,168.610224422696\n",
      "\"55\",119,256,-14.7491760197512,-13.2877496242086,158.171311557794\n",
      "\"56\",265,183,-338.797195193153,-338.10310987367,75.1833217563703\n",
      "\"57\",172,109,-43.6912856936316,-47.1766190280398,159.211258911103\n",
      "\"58\",131,111,753.789661221805,743.775847844643,162.069580275453\n",
      "\"59\",154,69,966.616459098472,958.109326688886,86.4869718946665\n",
      "\"60\",99,90,339.885124305838,362.714373746778,79.1847027135794\n",
      "\"61\",158,151,-1.7996177553502,82.2847003313844,127.090604215388\n",
      "\"62\",104,118,-170.721065852202,-87.1851970103376,84.0849353647555\n",
      "\"63\",213,132,135.371861674242,277.342709196914,131.979266951583\n",
      "\"64\",241,159,508.021366189228,638.567194510406,9.60239747851577\n",
      "\"65\",179,200,311.867102524243,331.35657164412,265.773188074172\n"
     ]
    }
   ],
   "source": [
    "write.csv(Predict_lagged,)"
   ]
  },
  {
   "cell_type": "code",
   "execution_count": 48,
   "metadata": {},
   "outputs": [
    {
     "data": {
      "text/html": [
       "<table>\n",
       "<caption>A data.frame: 12 × 5</caption>\n",
       "<thead>\n",
       "\t<tr><th></th><th scope=col>df.BEACH</th><th scope=col>WRMD1</th><th scope=col>forecast1</th><th scope=col>forecast2</th><th scope=col>forecast3</th></tr>\n",
       "\t<tr><th></th><th scope=col>&lt;int&gt;</th><th scope=col>&lt;int&gt;</th><th scope=col>&lt;ts&gt;</th><th scope=col>&lt;ts&gt;</th><th scope=col>&lt;ts&gt;</th></tr>\n",
       "</thead>\n",
       "<tbody>\n",
       "\t<tr><th scope=row>54</th><td>229</td><td>140</td><td>  37.634627</td><td>  38.37449</td><td>168.610224</td></tr>\n",
       "\t<tr><th scope=row>55</th><td>119</td><td>256</td><td> -14.749176</td><td> -13.28775</td><td>158.171312</td></tr>\n",
       "\t<tr><th scope=row>56</th><td>265</td><td>183</td><td>-338.797195</td><td>-338.10311</td><td> 75.183322</td></tr>\n",
       "\t<tr><th scope=row>57</th><td>172</td><td>109</td><td> -43.691286</td><td> -47.17662</td><td>159.211259</td></tr>\n",
       "\t<tr><th scope=row>58</th><td>131</td><td>111</td><td> 753.789661</td><td> 743.77585</td><td>162.069580</td></tr>\n",
       "\t<tr><th scope=row>59</th><td>154</td><td> 69</td><td> 966.616459</td><td> 958.10933</td><td> 86.486972</td></tr>\n",
       "\t<tr><th scope=row>60</th><td> 99</td><td> 90</td><td> 339.885124</td><td> 362.71437</td><td> 79.184703</td></tr>\n",
       "\t<tr><th scope=row>61</th><td>158</td><td>151</td><td>  -1.799618</td><td>  82.28470</td><td>127.090604</td></tr>\n",
       "\t<tr><th scope=row>62</th><td>104</td><td>118</td><td>-170.721066</td><td> -87.18520</td><td> 84.084935</td></tr>\n",
       "\t<tr><th scope=row>63</th><td>213</td><td>132</td><td> 135.371862</td><td> 277.34271</td><td>131.979267</td></tr>\n",
       "\t<tr><th scope=row>64</th><td>241</td><td>159</td><td> 508.021366</td><td> 638.56719</td><td>  9.602397</td></tr>\n",
       "\t<tr><th scope=row>65</th><td>179</td><td>200</td><td> 311.867103</td><td> 331.35657</td><td>265.773188</td></tr>\n",
       "</tbody>\n",
       "</table>\n"
      ],
      "text/latex": [
       "A data.frame: 12 × 5\n",
       "\\begin{tabular}{r|lllll}\n",
       "  & df.BEACH & WRMD1 & forecast1 & forecast2 & forecast3\\\\\n",
       "  & <int> & <int> & <ts> & <ts> & <ts>\\\\\n",
       "\\hline\n",
       "\t54 & 229 & 140 &   37.634627 &   38.37449 & 168.610224\\\\\n",
       "\t55 & 119 & 256 &  -14.749176 &  -13.28775 & 158.171312\\\\\n",
       "\t56 & 265 & 183 & -338.797195 & -338.10311 &  75.183322\\\\\n",
       "\t57 & 172 & 109 &  -43.691286 &  -47.17662 & 159.211259\\\\\n",
       "\t58 & 131 & 111 &  753.789661 &  743.77585 & 162.069580\\\\\n",
       "\t59 & 154 &  69 &  966.616459 &  958.10933 &  86.486972\\\\\n",
       "\t60 &  99 &  90 &  339.885124 &  362.71437 &  79.184703\\\\\n",
       "\t61 & 158 & 151 &   -1.799618 &   82.28470 & 127.090604\\\\\n",
       "\t62 & 104 & 118 & -170.721066 &  -87.18520 &  84.084935\\\\\n",
       "\t63 & 213 & 132 &  135.371862 &  277.34271 & 131.979267\\\\\n",
       "\t64 & 241 & 159 &  508.021366 &  638.56719 &   9.602397\\\\\n",
       "\t65 & 179 & 200 &  311.867103 &  331.35657 & 265.773188\\\\\n",
       "\\end{tabular}\n"
      ],
      "text/markdown": [
       "\n",
       "A data.frame: 12 × 5\n",
       "\n",
       "| <!--/--> | df.BEACH &lt;int&gt; | WRMD1 &lt;int&gt; | forecast1 &lt;ts&gt; | forecast2 &lt;ts&gt; | forecast3 &lt;ts&gt; |\n",
       "|---|---|---|---|---|---|\n",
       "| 54 | 229 | 140 |   37.634627 |   38.37449 | 168.610224 |\n",
       "| 55 | 119 | 256 |  -14.749176 |  -13.28775 | 158.171312 |\n",
       "| 56 | 265 | 183 | -338.797195 | -338.10311 |  75.183322 |\n",
       "| 57 | 172 | 109 |  -43.691286 |  -47.17662 | 159.211259 |\n",
       "| 58 | 131 | 111 |  753.789661 |  743.77585 | 162.069580 |\n",
       "| 59 | 154 |  69 |  966.616459 |  958.10933 |  86.486972 |\n",
       "| 60 |  99 |  90 |  339.885124 |  362.71437 |  79.184703 |\n",
       "| 61 | 158 | 151 |   -1.799618 |   82.28470 | 127.090604 |\n",
       "| 62 | 104 | 118 | -170.721066 |  -87.18520 |  84.084935 |\n",
       "| 63 | 213 | 132 |  135.371862 |  277.34271 | 131.979267 |\n",
       "| 64 | 241 | 159 |  508.021366 |  638.56719 |   9.602397 |\n",
       "| 65 | 179 | 200 |  311.867103 |  331.35657 | 265.773188 |\n",
       "\n"
      ],
      "text/plain": [
       "   df.BEACH WRMD1 forecast1   forecast2  forecast3 \n",
       "54 229      140     37.634627   38.37449 168.610224\n",
       "55 119      256    -14.749176  -13.28775 158.171312\n",
       "56 265      183   -338.797195 -338.10311  75.183322\n",
       "57 172      109    -43.691286  -47.17662 159.211259\n",
       "58 131      111    753.789661  743.77585 162.069580\n",
       "59 154       69    966.616459  958.10933  86.486972\n",
       "60  99       90    339.885124  362.71437  79.184703\n",
       "61 158      151     -1.799618   82.28470 127.090604\n",
       "62 104      118   -170.721066  -87.18520  84.084935\n",
       "63 213      132    135.371862  277.34271 131.979267\n",
       "64 241      159    508.021366  638.56719   9.602397\n",
       "65 179      200    311.867103  331.35657 265.773188"
      ]
     },
     "metadata": {},
     "output_type": "display_data"
    }
   ],
   "source": [
    "Predict_lagged"
   ]
  },
  {
   "cell_type": "code",
   "execution_count": 49,
   "metadata": {},
   "outputs": [
    {
     "data": {
      "image/png": "[encoded data removed]",
      "text/plain": [
       "plot without title"
      ]
     },
     "metadata": {
      "image/png": {
       "height": 360,
       "width": 360
      },
      "text/plain": {
       "height": 360,
       "width": 360
      }
     },
     "output_type": "display_data"
    }
   ],
   "source": [
    "x = as.numeric(rownames(Predict_lagged))\n",
    "p = ggplot() + \n",
    "  geom_line(data = Predict_lagged, aes(x =x, y = df.BEACH), color = \"blue\") +\n",
    "  geom_line(data = Predict_lagged, aes(x = x, y = WRMD1), color = \"red\")+ \n",
    "  geom_line(data = Predict_lagged, aes(x = x, y = forecast1), color = \"green\")+    \n",
    "  geom_line(data = Predict_lagged, aes(x = x, y = forecast2), color = \"black\")+\n",
    "  geom_line(data = Predict_lagged, aes(x = x, y = forecast3), color = \"yellow\")\n",
    "print(p)"
   ]
  },
  {
   "cell_type": "code",
   "execution_count": 50,
   "metadata": {},
   "outputs": [],
   "source": [
    "write.csv(Predict_lagged, file = \"C:/Users/Falco/Desktop/directory/WRMD_paper/outputs/Predictions.csv\")"
   ]
  },
  {
   "cell_type": "code",
   "execution_count": 51,
   "metadata": {},
   "outputs": [
    {
     "name": "stdout",
     "output_type": "stream",
     "text": [
      "\n",
      "\tLjung-Box test\n",
      "\n",
      "data:  Residuals from Regression with ARIMA(2,0,0)(0,1,0)[12] errors\n",
      "Q* = 19.932, df = 9, p-value = 0.01834\n",
      "\n",
      "Model df: 3.   Total lags used: 12\n",
      "\n"
     ]
    },
    {
     "data": {
      "image/png": "[encoded data removed]",
      "text/plain": [
       "plot without title"
      ]
     },
     "metadata": {
      "image/png": {
       "height": 360,
       "width": 360
      },
      "text/plain": {
       "height": 360,
       "width": 360
      }
     },
     "output_type": "display_data"
    }
   ],
   "source": [
    "options(repr.plot.width=6, repr.plot.height=6)\n",
    "fit <- Arima(Lagged_training$df.BEACH, order = c(2,0,0),\n",
    "              seasonal=list(order=c(0,1,0), period=12), \n",
    "              xreg = Lagged_training$WRMD1)\n",
    "checkresiduals(fit, lag=12)"
   ]
  },
  {
   "cell_type": "code",
   "execution_count": 52,
   "metadata": {},
   "outputs": [
    {
     "data": {
      "text/plain": [
       "\n",
       "z test of coefficients:\n",
       "\n",
       "      Estimate Std. Error z value Pr(>|z|)   \n",
       "ar1   0.393091   0.228382  1.7212 0.085215 . \n",
       "ar2  -0.056098   0.165229 -0.3395 0.734223   \n",
       "xreg  1.269513   0.470108  2.7005 0.006924 **\n",
       "---\n",
       "Signif. codes:  0 '***' 0.001 '**' 0.01 '*' 0.05 '.' 0.1 ' ' 1\n"
      ]
     },
     "metadata": {},
     "output_type": "display_data"
    }
   ],
   "source": [
    "coeftest(fit)"
   ]
  },
  {
   "cell_type": "code",
   "execution_count": 53,
   "metadata": {},
   "outputs": [
    {
     "data": {
      "text/html": [
       "<table>\n",
       "<caption>A matrix: 1 × 5 of type dbl</caption>\n",
       "<thead>\n",
       "\t<tr><th></th><th scope=col>ME</th><th scope=col>RMSE</th><th scope=col>MAE</th><th scope=col>MPE</th><th scope=col>MAPE</th></tr>\n",
       "</thead>\n",
       "<tbody>\n",
       "\t<tr><th scope=row>Test set</th><td>-34.95232</td><td>383.8217</td><td>311.0776</td><td>-40.03993</td><td>198.5314</td></tr>\n",
       "</tbody>\n",
       "</table>\n"
      ],
      "text/latex": [
       "A matrix: 1 × 5 of type dbl\n",
       "\\begin{tabular}{r|lllll}\n",
       "  & ME & RMSE & MAE & MPE & MAPE\\\\\n",
       "\\hline\n",
       "\tTest set & -34.95232 & 383.8217 & 311.0776 & -40.03993 & 198.5314\\\\\n",
       "\\end{tabular}\n"
      ],
      "text/markdown": [
       "\n",
       "A matrix: 1 × 5 of type dbl\n",
       "\n",
       "| <!--/--> | ME | RMSE | MAE | MPE | MAPE |\n",
       "|---|---|---|---|---|---|\n",
       "| Test set | -34.95232 | 383.8217 | 311.0776 | -40.03993 | 198.5314 |\n",
       "\n"
      ],
      "text/plain": [
       "         ME        RMSE     MAE      MPE       MAPE    \n",
       "Test set -34.95232 383.8217 311.0776 -40.03993 198.5314"
      ]
     },
     "metadata": {},
     "output_type": "display_data"
    }
   ],
   "source": [
    "accuracy(Predict_lagged$forecast1,Predict_lagged$df.BEACH)"
   ]
  },
  {
   "cell_type": "code",
   "execution_count": 54,
   "metadata": {},
   "outputs": [
    {
     "data": {
      "text/html": [
       "<table>\n",
       "<caption>A matrix: 1 × 5 of type dbl</caption>\n",
       "<thead>\n",
       "\t<tr><th></th><th scope=col>ME</th><th scope=col>RMSE</th><th scope=col>MAE</th><th scope=col>MPE</th><th scope=col>MAPE</th></tr>\n",
       "</thead>\n",
       "<tbody>\n",
       "\t<tr><th scope=row>Test set</th><td>-73.56438</td><td>385.6745</td><td>308.9133</td><td>-62.95064</td><td>193.1467</td></tr>\n",
       "</tbody>\n",
       "</table>\n"
      ],
      "text/latex": [
       "A matrix: 1 × 5 of type dbl\n",
       "\\begin{tabular}{r|lllll}\n",
       "  & ME & RMSE & MAE & MPE & MAPE\\\\\n",
       "\\hline\n",
       "\tTest set & -73.56438 & 385.6745 & 308.9133 & -62.95064 & 193.1467\\\\\n",
       "\\end{tabular}\n"
      ],
      "text/markdown": [
       "\n",
       "A matrix: 1 × 5 of type dbl\n",
       "\n",
       "| <!--/--> | ME | RMSE | MAE | MPE | MAPE |\n",
       "|---|---|---|---|---|---|\n",
       "| Test set | -73.56438 | 385.6745 | 308.9133 | -62.95064 | 193.1467 |\n",
       "\n"
      ],
      "text/plain": [
       "         ME        RMSE     MAE      MPE       MAPE    \n",
       "Test set -73.56438 385.6745 308.9133 -62.95064 193.1467"
      ]
     },
     "metadata": {},
     "output_type": "display_data"
    }
   ],
   "source": [
    "accuracy(Predict_lagged$forecast2,Predict_lagged$df.BEACH)"
   ]
  },
  {
   "cell_type": "code",
   "execution_count": 55,
   "metadata": {},
   "outputs": [
    {
     "data": {
      "text/html": [
       "<table>\n",
       "<caption>A matrix: 1 × 5 of type dbl</caption>\n",
       "<thead>\n",
       "\t<tr><th></th><th scope=col>ME</th><th scope=col>RMSE</th><th scope=col>MAE</th><th scope=col>MPE</th><th scope=col>MAPE</th></tr>\n",
       "</thead>\n",
       "<tbody>\n",
       "\t<tr><th scope=row>Test set</th><td>46.37935</td><td>98.43865</td><td>72.54837</td><td>19.74541</td><td>37.26391</td></tr>\n",
       "</tbody>\n",
       "</table>\n"
      ],
      "text/latex": [
       "A matrix: 1 × 5 of type dbl\n",
       "\\begin{tabular}{r|lllll}\n",
       "  & ME & RMSE & MAE & MPE & MAPE\\\\\n",
       "\\hline\n",
       "\tTest set & 46.37935 & 98.43865 & 72.54837 & 19.74541 & 37.26391\\\\\n",
       "\\end{tabular}\n"
      ],
      "text/markdown": [
       "\n",
       "A matrix: 1 × 5 of type dbl\n",
       "\n",
       "| <!--/--> | ME | RMSE | MAE | MPE | MAPE |\n",
       "|---|---|---|---|---|---|\n",
       "| Test set | 46.37935 | 98.43865 | 72.54837 | 19.74541 | 37.26391 |\n",
       "\n"
      ],
      "text/plain": [
       "         ME       RMSE     MAE      MPE      MAPE    \n",
       "Test set 46.37935 98.43865 72.54837 19.74541 37.26391"
      ]
     },
     "metadata": {},
     "output_type": "display_data"
    }
   ],
   "source": [
    "accuracy(Predict_lagged$forecast3,Predict_lagged$df.BEACH)"
   ]
  },
  {
   "cell_type": "code",
   "execution_count": null,
   "metadata": {},
   "outputs": [],
   "source": []
  }
 ],
 "metadata": {
  "kernelspec": {
   "display_name": "R",
   "language": "R",
   "name": "ir"
  },
  "language_info": {
   "codemirror_mode": "r",
   "file_extension": ".r",
   "mimetype": "text/x-r-source",
   "name": "R",
   "pygments_lexer": "r",
   "version": "3.6.1"
  },
  "toc": {
   "base_numbering": 1,
   "nav_menu": {},
   "number_sections": true,
   "sideBar": true,
   "skip_h1_title": false,
   "title_cell": "Table of Contents",
   "title_sidebar": "Contents",
   "toc_cell": false,
   "toc_position": {},
   "toc_section_display": true,
   "toc_window_display": false
  },
  "varInspector": {
   "cols": {
    "lenName": 16,
    "lenType": 16,
    "lenVar": 40
   },
   "kernels_config": {
    "python": {
     "delete_cmd_postfix": "",
     "delete_cmd_prefix": "del ",
     "library": "var_list.py",
     "varRefreshCmd": "print(var_dic_list())"
    },
    "r": {
     "delete_cmd_postfix": ") ",
     "delete_cmd_prefix": "rm(",
     "library": "var_list.r",
     "varRefreshCmd": "cat(var_dic_list()) "
    }
   },
   "types_to_exclude": [
    "module",
    "function",
    "builtin_function_or_method",
    "instance",
    "_Feature"
   ],
   "window_display": false
  }
 },
 "nbformat": 4,
 "nbformat_minor": 2
}
