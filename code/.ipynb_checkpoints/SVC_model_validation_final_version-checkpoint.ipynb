{
 "cells": [
  {
   "cell_type": "code",
   "execution_count": 1,
   "metadata": {},
   "outputs": [
    {
     "name": "stderr",
     "output_type": "stream",
     "text": [
      "ERROR:root:File `u'Settings.py'` not found.\n",
      "ERROR:root:File `u'Settings.py'` not found.\n"
     ]
    },
    {
     "name": "stdout",
     "output_type": "stream",
     "text": [
      "Wall time: 5.04 s\n"
     ]
    }
   ],
   "source": [
    "%%time\n",
    "import os as os\n",
    "os.chdir('C:\\Users\\Falco\\Desktop\\directory\\WRMD_paper')\n",
    "data_path = 'C:\\Users\\Falco\\Desktop\\directory\\WRMD_paper\\data'\n",
    "import pandas as pd\n",
    "from matplotlib import pyplot as plt\n",
    "%matplotlib inline\n",
    "%run Settings.py\n",
    "from WRMDpy import Syndrome as Syndrome\n",
    "\n",
    "\n",
    "plt.style.use('fivethirtyeight')\n",
    "plt.rcParams[\"font.family\"] = \"Times New Roman\"\n",
    "plt.rcParams['font.family'] = \"serif\""
   ]
  },
  {
   "cell_type": "code",
   "execution_count": 2,
   "metadata": {},
   "outputs": [
    {
     "name": "stdout",
     "output_type": "stream",
     "text": [
      "Wall time: 0 ns\n"
     ]
    }
   ],
   "source": [
    "%%time\n",
    "import sklearn\n",
    "from sklearn.feature_extraction.text import CountVectorizer, TfidfTransformer\n",
    "from sklearn.ensemble import RandomForestClassifier, GradientBoostingClassifier, AdaBoostClassifier\n",
    "from sklearn.naive_bayes import MultinomialNB\n",
    "from sklearn.svm import SVC, LinearSVC\n",
    "from sklearn.metrics import classification_report, f1_score, accuracy_score, confusion_matrix\n",
    "from sklearn.pipeline import Pipeline\n",
    "from sklearn.model_selection import GridSearchCV\n",
    "#from sklearn.cross_validation import\n",
    "from sklearn.model_selection import StratifiedKFold ,cross_val_score, train_test_split, cross_val_predict\n",
    "from sklearn.tree import DecisionTreeClassifier \n",
    "from sklearn.model_selection import learning_curve\n",
    "from pandas_ml import ConfusionMatrix\n",
    "from textblob import TextBlob\n",
    "from sklearn.linear_model import SGDClassifier\n",
    "from sklearn.ensemble import ExtraTreesClassifier, RandomForestClassifier, AdaBoostClassifier, GradientBoostingClassifier\n",
    "from sklearn.model_selection import GridSearchCV\n",
    "from sklearn.metrics import accuracy_score"
   ]
  },
  {
   "cell_type": "code",
   "execution_count": 3,
   "metadata": {},
   "outputs": [
    {
     "name": "stdout",
     "output_type": "stream",
     "text": [
      "Wall time: 1.57 s\n"
     ]
    }
   ],
   "source": [
    "%%time\n",
    "data = Syndrome.read_data(data_path+'\\Training dataset_WMME_May 7 2018.csv')\n",
    "data.shape"
   ]
  },
  {
   "cell_type": "code",
   "execution_count": 4,
   "metadata": {},
   "outputs": [
    {
     "data": {
      "text/html": [
       "<div>\n",
       "<style scoped>\n",
       "    .dataframe tbody tr th:only-of-type {\n",
       "        vertical-align: middle;\n",
       "    }\n",
       "\n",
       "    .dataframe tbody tr th {\n",
       "        vertical-align: top;\n",
       "    }\n",
       "\n",
       "    .dataframe thead th {\n",
       "        text-align: right;\n",
       "    }\n",
       "</style>\n",
       "<table border=\"1\" class=\"dataframe\">\n",
       "  <thead>\n",
       "    <tr style=\"text-align: right;\">\n",
       "      <th></th>\n",
       "      <th>WRMD_ID</th>\n",
       "      <th>Case</th>\n",
       "      <th>Admitted_at</th>\n",
       "      <th>Species</th>\n",
       "      <th>Organization</th>\n",
       "      <th>Address_found</th>\n",
       "      <th>Latitude</th>\n",
       "      <th>Longitude</th>\n",
       "      <th>Disposition</th>\n",
       "      <th>Dispositioned_at</th>\n",
       "      <th>...</th>\n",
       "      <th>Reasons</th>\n",
       "      <th>Condition</th>\n",
       "      <th>Diagnosis</th>\n",
       "      <th>Notes</th>\n",
       "      <th>c1</th>\n",
       "      <th>c2</th>\n",
       "      <th>c3</th>\n",
       "      <th>c4</th>\n",
       "      <th>c5</th>\n",
       "      <th>condition_predict</th>\n",
       "    </tr>\n",
       "    <tr>\n",
       "      <th>Admitted_at</th>\n",
       "      <th></th>\n",
       "      <th></th>\n",
       "      <th></th>\n",
       "      <th></th>\n",
       "      <th></th>\n",
       "      <th></th>\n",
       "      <th></th>\n",
       "      <th></th>\n",
       "      <th></th>\n",
       "      <th></th>\n",
       "      <th></th>\n",
       "      <th></th>\n",
       "      <th></th>\n",
       "      <th></th>\n",
       "      <th></th>\n",
       "      <th></th>\n",
       "      <th></th>\n",
       "      <th></th>\n",
       "      <th></th>\n",
       "      <th></th>\n",
       "      <th></th>\n",
       "    </tr>\n",
       "  </thead>\n",
       "  <tbody>\n",
       "    <tr>\n",
       "      <th>2017-10-10</th>\n",
       "      <td>797939</td>\n",
       "      <td>17-4838</td>\n",
       "      <td>2017-10-10</td>\n",
       "      <td>Rock Pigeon</td>\n",
       "      <td>Wildlife Care Association of Sacramento</td>\n",
       "      <td>1485 Eureka Rd Roseville CA</td>\n",
       "      <td>38.752975</td>\n",
       "      <td>-121.251392</td>\n",
       "      <td>Pending</td>\n",
       "      <td>NaN</td>\n",
       "      <td>...</td>\n",
       "      <td>Appears sick or injured, was flapping around o...</td>\n",
       "      <td>cns Walking in circles  comments Finder explai...</td>\n",
       "      <td>Poisoned</td>\n",
       "      <td>NaN</td>\n",
       "      <td>neurologic disease</td>\n",
       "      <td>None</td>\n",
       "      <td>None</td>\n",
       "      <td>None</td>\n",
       "      <td>None</td>\n",
       "      <td>neurologic disease</td>\n",
       "    </tr>\n",
       "    <tr>\n",
       "      <th>2017-10-09</th>\n",
       "      <td>797531</td>\n",
       "      <td>17-3709</td>\n",
       "      <td>2017-10-09</td>\n",
       "      <td>Rock Pigeon</td>\n",
       "      <td>California Wildlife Center</td>\n",
       "      <td>Corner of Figueroa and Gage @ Gas Station Los ...</td>\n",
       "      <td>33.982069</td>\n",
       "      <td>-118.282970</td>\n",
       "      <td>Euthanized +24hr</td>\n",
       "      <td>10/10/2017</td>\n",
       "      <td>...</td>\n",
       "      <td>FOG; can't fly; head twitch</td>\n",
       "      <td>cns Head shake   FOG cant fly head twitch empty</td>\n",
       "      <td>empty</td>\n",
       "      <td>NaN</td>\n",
       "      <td>neurologic disease</td>\n",
       "      <td>None</td>\n",
       "      <td>None</td>\n",
       "      <td>None</td>\n",
       "      <td>None</td>\n",
       "      <td>neurologic disease</td>\n",
       "    </tr>\n",
       "    <tr>\n",
       "      <th>2017-10-07</th>\n",
       "      <td>785529</td>\n",
       "      <td>17-2956</td>\n",
       "      <td>2017-10-07</td>\n",
       "      <td>Rock Pigeon</td>\n",
       "      <td>WildCare</td>\n",
       "      <td>2420 Van Ness San Francisco CA</td>\n",
       "      <td>37.797919</td>\n",
       "      <td>-122.423591</td>\n",
       "      <td>Euthanized in 24hr</td>\n",
       "      <td>10/7/2017</td>\n",
       "      <td>...</td>\n",
       "      <td>Unable to fly</td>\n",
       "      <td>comments neuro no signs of trauma looks like s...</td>\n",
       "      <td>suspect sarco</td>\n",
       "      <td>NaN</td>\n",
       "      <td>neurologic disease</td>\n",
       "      <td>None</td>\n",
       "      <td>None</td>\n",
       "      <td>None</td>\n",
       "      <td>None</td>\n",
       "      <td>neurologic disease</td>\n",
       "    </tr>\n",
       "    <tr>\n",
       "      <th>2017-10-07</th>\n",
       "      <td>719028</td>\n",
       "      <td>17-2955</td>\n",
       "      <td>2017-10-07</td>\n",
       "      <td>Rock Pigeon</td>\n",
       "      <td>WildCare</td>\n",
       "      <td>425 Buchanan San Francisco CA</td>\n",
       "      <td>37.774006</td>\n",
       "      <td>-122.427646</td>\n",
       "      <td>Euthanized in 24hr</td>\n",
       "      <td>10/7/2017</td>\n",
       "      <td>...</td>\n",
       "      <td>Neuro</td>\n",
       "      <td>comments neuro no signs of trauma looks like s...</td>\n",
       "      <td>suspect sarco</td>\n",
       "      <td>NaN</td>\n",
       "      <td>neurologic disease</td>\n",
       "      <td>None</td>\n",
       "      <td>None</td>\n",
       "      <td>None</td>\n",
       "      <td>None</td>\n",
       "      <td>neurologic disease</td>\n",
       "    </tr>\n",
       "    <tr>\n",
       "      <th>2017-10-10</th>\n",
       "      <td>797863</td>\n",
       "      <td>17-2977</td>\n",
       "      <td>2017-10-10</td>\n",
       "      <td>Northern Band-tailed Pigeon or Band-tailed Pigeon</td>\n",
       "      <td>Santa Barbara Wildlife Care Network</td>\n",
       "      <td>895 Buena Vista Rd. Montecito CA</td>\n",
       "      <td>34.447379</td>\n",
       "      <td>-119.611831</td>\n",
       "      <td>Euthanized +24hr</td>\n",
       "      <td>10/12/2017</td>\n",
       "      <td>...</td>\n",
       "      <td>found on ground</td>\n",
       "      <td>cns head tick and slight torticollis may be si...</td>\n",
       "      <td>empty</td>\n",
       "      <td>NaN</td>\n",
       "      <td>neurologic disease</td>\n",
       "      <td>None</td>\n",
       "      <td>None</td>\n",
       "      <td>None</td>\n",
       "      <td>None</td>\n",
       "      <td>neurologic disease</td>\n",
       "    </tr>\n",
       "  </tbody>\n",
       "</table>\n",
       "<p>5 rows × 22 columns</p>\n",
       "</div>"
      ],
      "text/plain": [
       "             WRMD_ID     Case Admitted_at  \\\n",
       "Admitted_at                                 \n",
       "2017-10-10    797939  17-4838  2017-10-10   \n",
       "2017-10-09    797531  17-3709  2017-10-09   \n",
       "2017-10-07    785529  17-2956  2017-10-07   \n",
       "2017-10-07    719028  17-2955  2017-10-07   \n",
       "2017-10-10    797863  17-2977  2017-10-10   \n",
       "\n",
       "                                                       Species  \\\n",
       "Admitted_at                                                      \n",
       "2017-10-10                                         Rock Pigeon   \n",
       "2017-10-09                                         Rock Pigeon   \n",
       "2017-10-07                                         Rock Pigeon   \n",
       "2017-10-07                                         Rock Pigeon   \n",
       "2017-10-10   Northern Band-tailed Pigeon or Band-tailed Pigeon   \n",
       "\n",
       "                                        Organization  \\\n",
       "Admitted_at                                            \n",
       "2017-10-10   Wildlife Care Association of Sacramento   \n",
       "2017-10-09                California Wildlife Center   \n",
       "2017-10-07                                  WildCare   \n",
       "2017-10-07                                  WildCare   \n",
       "2017-10-10       Santa Barbara Wildlife Care Network   \n",
       "\n",
       "                                                 Address_found   Latitude  \\\n",
       "Admitted_at                                                                 \n",
       "2017-10-10                         1485 Eureka Rd Roseville CA  38.752975   \n",
       "2017-10-09   Corner of Figueroa and Gage @ Gas Station Los ...  33.982069   \n",
       "2017-10-07                      2420 Van Ness San Francisco CA  37.797919   \n",
       "2017-10-07                       425 Buchanan San Francisco CA  37.774006   \n",
       "2017-10-10                    895 Buena Vista Rd. Montecito CA  34.447379   \n",
       "\n",
       "              Longitude         Disposition Dispositioned_at  ...  \\\n",
       "Admitted_at                                                   ...   \n",
       "2017-10-10  -121.251392             Pending              NaN  ...   \n",
       "2017-10-09  -118.282970    Euthanized +24hr       10/10/2017  ...   \n",
       "2017-10-07  -122.423591  Euthanized in 24hr        10/7/2017  ...   \n",
       "2017-10-07  -122.427646  Euthanized in 24hr        10/7/2017  ...   \n",
       "2017-10-10  -119.611831    Euthanized +24hr       10/12/2017  ...   \n",
       "\n",
       "                                                       Reasons  \\\n",
       "Admitted_at                                                      \n",
       "2017-10-10   Appears sick or injured, was flapping around o...   \n",
       "2017-10-09                         FOG; can't fly; head twitch   \n",
       "2017-10-07                                       Unable to fly   \n",
       "2017-10-07                                               Neuro   \n",
       "2017-10-10                                     found on ground   \n",
       "\n",
       "                                                     Condition      Diagnosis  \\\n",
       "Admitted_at                                                                     \n",
       "2017-10-10   cns Walking in circles  comments Finder explai...       Poisoned   \n",
       "2017-10-09     cns Head shake   FOG cant fly head twitch empty          empty   \n",
       "2017-10-07   comments neuro no signs of trauma looks like s...  suspect sarco   \n",
       "2017-10-07   comments neuro no signs of trauma looks like s...  suspect sarco   \n",
       "2017-10-10   cns head tick and slight torticollis may be si...          empty   \n",
       "\n",
       "            Notes                  c1    c2    c3    c4    c5  \\\n",
       "Admitted_at                                                     \n",
       "2017-10-10    NaN  neurologic disease  None  None  None  None   \n",
       "2017-10-09    NaN  neurologic disease  None  None  None  None   \n",
       "2017-10-07    NaN  neurologic disease  None  None  None  None   \n",
       "2017-10-07    NaN  neurologic disease  None  None  None  None   \n",
       "2017-10-10    NaN  neurologic disease  None  None  None  None   \n",
       "\n",
       "              condition_predict  \n",
       "Admitted_at                      \n",
       "2017-10-10   neurologic disease  \n",
       "2017-10-09   neurologic disease  \n",
       "2017-10-07   neurologic disease  \n",
       "2017-10-07   neurologic disease  \n",
       "2017-10-10   neurologic disease  \n",
       "\n",
       "[5 rows x 22 columns]"
      ]
     },
     "execution_count": 4,
     "metadata": {},
     "output_type": "execute_result"
    }
   ],
   "source": [
    "data.head()"
   ]
  },
  {
   "cell_type": "code",
   "execution_count": 5,
   "metadata": {},
   "outputs": [
    {
     "data": {
      "text/plain": [
       "12"
      ]
     },
     "execution_count": 5,
     "metadata": {},
     "output_type": "execute_result"
    }
   ],
   "source": [
    "len(data.condition_predict.unique())"
   ]
  },
  {
   "cell_type": "code",
   "execution_count": 6,
   "metadata": {},
   "outputs": [
    {
     "data": {
      "text/plain": [
       "'neurologic disease'"
      ]
     },
     "execution_count": 6,
     "metadata": {},
     "output_type": "execute_result"
    }
   ],
   "source": [
    "data.condition_predict.iloc[0]"
   ]
  },
  {
   "cell_type": "code",
   "execution_count": 7,
   "metadata": {},
   "outputs": [
    {
     "data": {
      "text/plain": [
       "'cns Walking in circles  comments Finder explained condition bird was in when found and it sounded like the bird was poisoned   Appears sick or injured was flapping around on the ground Started hyperventilating Vomitted did not attempt to get away  Poisoned'"
      ]
     },
     "execution_count": 7,
     "metadata": {},
     "output_type": "execute_result"
    }
   ],
   "source": [
    "data.Condition.iloc[0]"
   ]
  },
  {
   "cell_type": "code",
   "execution_count": 8,
   "metadata": {},
   "outputs": [
    {
     "name": "stdout",
     "output_type": "stream",
     "text": [
      "Wall time: 1min 15s\n"
     ]
    }
   ],
   "source": [
    "%%time\n",
    "h_data = Syndrome.read_data_historic(data_path+'\\historic_data_2013-01-01_2018-05-22_above_all major centers.csv')\n",
    "h_data.shape"
   ]
  },
  {
   "cell_type": "code",
   "execution_count": 9,
   "metadata": {
    "scrolled": true
   },
   "outputs": [
    {
     "data": {
      "text/plain": [
       "'2018-05-22'"
      ]
     },
     "execution_count": 9,
     "metadata": {},
     "output_type": "execute_result"
    }
   ],
   "source": [
    "h_data.Admitted_at.max()"
   ]
  },
  {
   "cell_type": "code",
   "execution_count": 10,
   "metadata": {},
   "outputs": [
    {
     "data": {
      "text/plain": [
       "'2013-01-02'"
      ]
     },
     "execution_count": 10,
     "metadata": {},
     "output_type": "execute_result"
    }
   ],
   "source": [
    "h_data.Admitted_at.min()"
   ]
  },
  {
   "cell_type": "code",
   "execution_count": 11,
   "metadata": {},
   "outputs": [],
   "source": [
    "def split_into_tokens(message):\n",
    "    message = unicode(message, 'utf8')  # convert bytes into proper unicode\n",
    "    return TextBlob(message).words\n",
    "\n",
    "\n",
    "def split_into_lemmas(message):\n",
    "    message = unicode(message, 'utf8').lower()\n",
    "    words = TextBlob(message).words\n",
    "    # for each word, take its \"base form\" = lemma \n",
    "    return [word.lemma for word in words]\n",
    "\n",
    "\n",
    "def bag_of_words(data_frame, historical_data):\n",
    "    X_train, X_test, y_train, y_test = train_test_split(data_frame['Condition'], data_frame['condition_predict'], test_size=0.2, random_state=0)\n",
    "    \n",
    "    count_vect = CountVectorizer(analyzer=split_into_lemmas,ngram_range= (1, 3), encoding='utf8',stop_words =None)\n",
    "    X_train_counts = count_vect.fit_transform(X_train)\n",
    "    \n",
    "    tfidf_transformer = TfidfTransformer()\n",
    "    X_train_tfidf = tfidf_transformer.fit_transform(X_train_counts)\n",
    "    \n",
    "    print('Training shape')\n",
    "    print (X_train_tfidf.shape)\n",
    "    \n",
    "    X_new_counts = count_vect.transform(X_test)\n",
    "    X_test_tfidf = tfidf_transformer.transform(X_new_counts)\n",
    "\n",
    "    print ('Testing shape')\n",
    "    print (X_test_tfidf.shape)\n",
    "    \n",
    "    \n",
    "    print ('Historical data')\n",
    "    X_hist_counts = count_vect.transform(historical_data['ConditionO'])\n",
    "    X_hist_tfidf = tfidf_transformer.transform(X_hist_counts)\n",
    "    print (X_hist_tfidf.shape)\n",
    "\n",
    "    \n",
    "    return X_train_tfidf, y_train, X_test_tfidf, y_test, X_hist_tfidf, count_vect"
   ]
  },
  {
   "cell_type": "code",
   "execution_count": 12,
   "metadata": {},
   "outputs": [
    {
     "name": "stdout",
     "output_type": "stream",
     "text": [
      "Training shape\n",
      "(2464, 4663)\n",
      "Testing shape\n",
      "(617, 4663)\n",
      "Historical data\n",
      "(219767, 4663)\n",
      "Wall time: 2min 40s\n"
     ]
    }
   ],
   "source": [
    "%%time\n",
    "X_train_tfidf, y_train, X_test_tfidf, y_test, X_hist_tfidf, count_vectrotize_obj = bag_of_words(data_frame= data, historical_data= h_data)"
   ]
  },
  {
   "cell_type": "code",
   "execution_count": 13,
   "metadata": {},
   "outputs": [
    {
     "data": {
      "text/plain": [
       "<2464x4663 sparse matrix of type '<type 'numpy.float64'>'\n",
       "\twith 55170 stored elements in Compressed Sparse Row format>"
      ]
     },
     "execution_count": 13,
     "metadata": {},
     "output_type": "execute_result"
    }
   ],
   "source": [
    "X_train_tfidf"
   ]
  },
  {
   "cell_type": "code",
   "execution_count": 14,
   "metadata": {},
   "outputs": [
    {
     "name": "stdout",
     "output_type": "stream",
     "text": [
      "Wall time: 5 ms\n"
     ]
    }
   ],
   "source": [
    "%%time\n",
    "features = count_vectrotize_obj.get_feature_names()"
   ]
  },
  {
   "cell_type": "code",
   "execution_count": 15,
   "metadata": {
    "scrolled": false
   },
   "outputs": [
    {
     "name": "stdout",
     "output_type": "stream",
     "text": [
      "# Tuning hyper-parameters for precision\n",
      "()\n",
      "Fitting 5 folds for each of 85 candidates, totalling 425 fits\n"
     ]
    },
    {
     "name": "stderr",
     "output_type": "stream",
     "text": [
      "[Parallel(n_jobs=-1)]: Using backend LokyBackend with 4 concurrent workers.\n",
      "[Parallel(n_jobs=-1)]: Done  42 tasks      | elapsed:  2.3min\n",
      "[Parallel(n_jobs=-1)]: Done 192 tasks      | elapsed: 11.6min\n",
      "[Parallel(n_jobs=-1)]: Done 425 out of 425 | elapsed: 30.6min finished\n",
      "C:\\Users\\Falco\\Anaconda2\\lib\\site-packages\\sklearn\\model_selection\\_search.py:841: DeprecationWarning: The default of the `iid` parameter will change from True to False in version 0.22 and will be removed in 0.24. This will change numeric results when test-set sizes are unequal.\n",
      "  DeprecationWarning)\n"
     ]
    },
    {
     "name": "stdout",
     "output_type": "stream",
     "text": [
      "Best parameters set found on development set:\n",
      "()\n",
      "{'kernel': 'poly', 'C': 0.25, 'gamma': 4, 'degree': 3, 'probability': True}\n",
      "()\n",
      "Grid scores on development set:\n",
      "()\n",
      "0.029 (+/-0.000) for {'kernel': 'rbf', 'C': 1, 'probability': True, 'gamma': 0.001}\n",
      "0.029 (+/-0.000) for {'kernel': 'rbf', 'C': 1, 'probability': True, 'gamma': 0.0001}\n",
      "0.029 (+/-0.000) for {'kernel': 'rbf', 'C': 1, 'probability': True, 'gamma': 0.001}\n",
      "0.029 (+/-0.000) for {'kernel': 'rbf', 'C': 1, 'probability': True, 'gamma': 1e-05}\n",
      "0.029 (+/-0.000) for {'kernel': 'rbf', 'C': 10, 'probability': True, 'gamma': 0.001}\n",
      "0.029 (+/-0.000) for {'kernel': 'rbf', 'C': 10, 'probability': True, 'gamma': 0.0001}\n",
      "0.029 (+/-0.000) for {'kernel': 'rbf', 'C': 10, 'probability': True, 'gamma': 0.001}\n",
      "0.029 (+/-0.000) for {'kernel': 'rbf', 'C': 10, 'probability': True, 'gamma': 1e-05}\n",
      "0.795 (+/-0.079) for {'kernel': 'rbf', 'C': 100, 'probability': True, 'gamma': 0.001}\n",
      "0.029 (+/-0.000) for {'kernel': 'rbf', 'C': 100, 'probability': True, 'gamma': 0.0001}\n",
      "0.795 (+/-0.079) for {'kernel': 'rbf', 'C': 100, 'probability': True, 'gamma': 0.001}\n",
      "0.029 (+/-0.000) for {'kernel': 'rbf', 'C': 100, 'probability': True, 'gamma': 1e-05}\n",
      "0.795 (+/-0.079) for {'kernel': 'rbf', 'C': 100, 'probability': True, 'gamma': 0.001}\n",
      "0.029 (+/-0.000) for {'kernel': 'rbf', 'C': 100, 'probability': True, 'gamma': 0.0001}\n",
      "0.795 (+/-0.079) for {'kernel': 'rbf', 'C': 100, 'probability': True, 'gamma': 0.001}\n",
      "0.029 (+/-0.000) for {'kernel': 'rbf', 'C': 100, 'probability': True, 'gamma': 1e-05}\n",
      "0.791 (+/-0.061) for {'kernel': 'rbf', 'C': 1000, 'probability': True, 'gamma': 0.001}\n",
      "0.795 (+/-0.079) for {'kernel': 'rbf', 'C': 1000, 'probability': True, 'gamma': 0.0001}\n",
      "0.791 (+/-0.061) for {'kernel': 'rbf', 'C': 1000, 'probability': True, 'gamma': 0.001}\n",
      "0.029 (+/-0.000) for {'kernel': 'rbf', 'C': 1000, 'probability': True, 'gamma': 1e-05}\n",
      "0.792 (+/-0.080) for {'kernel': 'linear', 'C': 0.25, 'probability': True}\n",
      "0.788 (+/-0.089) for {'kernel': 'linear', 'C': 1, 'probability': True}\n",
      "0.776 (+/-0.087) for {'kernel': 'linear', 'C': 10, 'probability': True}\n",
      "0.779 (+/-0.084) for {'kernel': 'linear', 'C': 100, 'probability': True}\n",
      "0.781 (+/-0.084) for {'kernel': 'linear', 'C': 1000, 'probability': True}\n",
      "0.792 (+/-0.080) for {'kernel': 'poly', 'C': 0.25, 'gamma': 1, 'degree': 1, 'probability': True}\n",
      "0.785 (+/-0.063) for {'kernel': 'poly', 'C': 0.25, 'gamma': 2, 'degree': 1, 'probability': True}\n",
      "0.788 (+/-0.089) for {'kernel': 'poly', 'C': 0.25, 'gamma': 4, 'degree': 1, 'probability': True}\n",
      "0.791 (+/-0.061) for {'kernel': 'poly', 'C': 0.25, 'gamma': 8, 'degree': 1, 'probability': True}\n",
      "0.411 (+/-0.091) for {'kernel': 'poly', 'C': 0.25, 'gamma': 1, 'degree': 3, 'probability': True}\n",
      "0.797 (+/-0.059) for {'kernel': 'poly', 'C': 0.25, 'gamma': 2, 'degree': 3, 'probability': True}\n",
      "0.799 (+/-0.062) for {'kernel': 'poly', 'C': 0.25, 'gamma': 4, 'degree': 3, 'probability': True}\n",
      "0.799 (+/-0.062) for {'kernel': 'poly', 'C': 0.25, 'gamma': 8, 'degree': 3, 'probability': True}\n",
      "0.331 (+/-0.060) for {'kernel': 'poly', 'C': 0.25, 'gamma': 1, 'degree': 5, 'probability': True}\n",
      "0.716 (+/-0.206) for {'kernel': 'poly', 'C': 0.25, 'gamma': 2, 'degree': 5, 'probability': True}\n",
      "0.716 (+/-0.206) for {'kernel': 'poly', 'C': 0.25, 'gamma': 4, 'degree': 5, 'probability': True}\n",
      "0.716 (+/-0.206) for {'kernel': 'poly', 'C': 0.25, 'gamma': 8, 'degree': 5, 'probability': True}\n",
      "0.788 (+/-0.089) for {'kernel': 'poly', 'C': 1, 'gamma': 1, 'degree': 1, 'probability': True}\n",
      "0.791 (+/-0.061) for {'kernel': 'poly', 'C': 1, 'gamma': 2, 'degree': 1, 'probability': True}\n",
      "0.782 (+/-0.084) for {'kernel': 'poly', 'C': 1, 'gamma': 4, 'degree': 1, 'probability': True}\n",
      "0.777 (+/-0.087) for {'kernel': 'poly', 'C': 1, 'gamma': 8, 'degree': 1, 'probability': True}\n",
      "0.755 (+/-0.158) for {'kernel': 'poly', 'C': 1, 'gamma': 1, 'degree': 3, 'probability': True}\n",
      "0.799 (+/-0.062) for {'kernel': 'poly', 'C': 1, 'gamma': 2, 'degree': 3, 'probability': True}\n",
      "0.799 (+/-0.062) for {'kernel': 'poly', 'C': 1, 'gamma': 4, 'degree': 3, 'probability': True}\n",
      "0.799 (+/-0.062) for {'kernel': 'poly', 'C': 1, 'gamma': 8, 'degree': 3, 'probability': True}\n",
      "0.709 (+/-0.200) for {'kernel': 'poly', 'C': 1, 'gamma': 1, 'degree': 5, 'probability': True}\n",
      "0.716 (+/-0.206) for {'kernel': 'poly', 'C': 1, 'gamma': 2, 'degree': 5, 'probability': True}\n",
      "0.716 (+/-0.206) for {'kernel': 'poly', 'C': 1, 'gamma': 4, 'degree': 5, 'probability': True}\n",
      "0.716 (+/-0.206) for {'kernel': 'poly', 'C': 1, 'gamma': 8, 'degree': 5, 'probability': True}\n",
      "0.776 (+/-0.087) for {'kernel': 'poly', 'C': 10, 'gamma': 1, 'degree': 1, 'probability': True}\n",
      "0.777 (+/-0.087) for {'kernel': 'poly', 'C': 10, 'gamma': 2, 'degree': 1, 'probability': True}\n",
      "0.779 (+/-0.083) for {'kernel': 'poly', 'C': 10, 'gamma': 4, 'degree': 1, 'probability': True}\n",
      "0.779 (+/-0.084) for {'kernel': 'poly', 'C': 10, 'gamma': 8, 'degree': 1, 'probability': True}\n",
      "0.799 (+/-0.062) for {'kernel': 'poly', 'C': 10, 'gamma': 1, 'degree': 3, 'probability': True}\n",
      "0.799 (+/-0.062) for {'kernel': 'poly', 'C': 10, 'gamma': 2, 'degree': 3, 'probability': True}\n",
      "0.799 (+/-0.062) for {'kernel': 'poly', 'C': 10, 'gamma': 4, 'degree': 3, 'probability': True}\n",
      "0.799 (+/-0.062) for {'kernel': 'poly', 'C': 10, 'gamma': 8, 'degree': 3, 'probability': True}\n",
      "0.716 (+/-0.206) for {'kernel': 'poly', 'C': 10, 'gamma': 1, 'degree': 5, 'probability': True}\n",
      "0.716 (+/-0.206) for {'kernel': 'poly', 'C': 10, 'gamma': 2, 'degree': 5, 'probability': True}\n",
      "0.716 (+/-0.206) for {'kernel': 'poly', 'C': 10, 'gamma': 4, 'degree': 5, 'probability': True}\n",
      "0.716 (+/-0.206) for {'kernel': 'poly', 'C': 10, 'gamma': 8, 'degree': 5, 'probability': True}\n",
      "0.779 (+/-0.084) for {'kernel': 'poly', 'C': 100, 'gamma': 1, 'degree': 1, 'probability': True}\n",
      "0.781 (+/-0.084) for {'kernel': 'poly', 'C': 100, 'gamma': 2, 'degree': 1, 'probability': True}\n",
      "0.781 (+/-0.084) for {'kernel': 'poly', 'C': 100, 'gamma': 4, 'degree': 1, 'probability': True}\n",
      "0.781 (+/-0.084) for {'kernel': 'poly', 'C': 100, 'gamma': 8, 'degree': 1, 'probability': True}\n",
      "0.799 (+/-0.062) for {'kernel': 'poly', 'C': 100, 'gamma': 1, 'degree': 3, 'probability': True}\n",
      "0.799 (+/-0.062) for {'kernel': 'poly', 'C': 100, 'gamma': 2, 'degree': 3, 'probability': True}\n",
      "0.799 (+/-0.062) for {'kernel': 'poly', 'C': 100, 'gamma': 4, 'degree': 3, 'probability': True}\n",
      "0.799 (+/-0.062) for {'kernel': 'poly', 'C': 100, 'gamma': 8, 'degree': 3, 'probability': True}\n",
      "0.716 (+/-0.206) for {'kernel': 'poly', 'C': 100, 'gamma': 1, 'degree': 5, 'probability': True}\n",
      "0.716 (+/-0.206) for {'kernel': 'poly', 'C': 100, 'gamma': 2, 'degree': 5, 'probability': True}\n",
      "0.716 (+/-0.206) for {'kernel': 'poly', 'C': 100, 'gamma': 4, 'degree': 5, 'probability': True}\n",
      "0.716 (+/-0.206) for {'kernel': 'poly', 'C': 100, 'gamma': 8, 'degree': 5, 'probability': True}\n",
      "0.781 (+/-0.084) for {'kernel': 'poly', 'C': 1000, 'gamma': 1, 'degree': 1, 'probability': True}\n",
      "0.781 (+/-0.084) for {'kernel': 'poly', 'C': 1000, 'gamma': 2, 'degree': 1, 'probability': True}\n",
      "0.781 (+/-0.084) for {'kernel': 'poly', 'C': 1000, 'gamma': 4, 'degree': 1, 'probability': True}\n",
      "0.781 (+/-0.084) for {'kernel': 'poly', 'C': 1000, 'gamma': 8, 'degree': 1, 'probability': True}\n",
      "0.799 (+/-0.062) for {'kernel': 'poly', 'C': 1000, 'gamma': 1, 'degree': 3, 'probability': True}\n",
      "0.799 (+/-0.062) for {'kernel': 'poly', 'C': 1000, 'gamma': 2, 'degree': 3, 'probability': True}\n",
      "0.799 (+/-0.062) for {'kernel': 'poly', 'C': 1000, 'gamma': 4, 'degree': 3, 'probability': True}\n",
      "0.799 (+/-0.062) for {'kernel': 'poly', 'C': 1000, 'gamma': 8, 'degree': 3, 'probability': True}\n",
      "0.716 (+/-0.206) for {'kernel': 'poly', 'C': 1000, 'gamma': 1, 'degree': 5, 'probability': True}\n",
      "0.716 (+/-0.206) for {'kernel': 'poly', 'C': 1000, 'gamma': 2, 'degree': 5, 'probability': True}\n",
      "0.716 (+/-0.206) for {'kernel': 'poly', 'C': 1000, 'gamma': 4, 'degree': 5, 'probability': True}\n",
      "0.716 (+/-0.206) for {'kernel': 'poly', 'C': 1000, 'gamma': 8, 'degree': 5, 'probability': True}\n",
      "()\n",
      "Detailed classification report:\n",
      "()\n",
      "The model is trained on the full development set.\n",
      "The scores are computed on the full evaluation set.\n",
      "()\n",
      "('Accuracy of SVC on holdout data: ', 0.6094003241491086)\n",
      "()\n",
      "                          precision    recall  f1-score   support\n",
      "\n",
      "gastrointestinal disease       1.00      0.29      0.44        35\n",
      "      neurologic disease       0.84      0.57      0.68       123\n",
      "             nonspecific       0.89      0.45      0.60        38\n",
      "     nutritional disease       1.00      0.28      0.43        40\n",
      "          ocular disease       0.92      0.28      0.43        43\n",
      "                orphaned       0.88      0.81      0.85        37\n",
      "  petrochemical exposure       1.00      0.27      0.43        22\n",
      "         physical injury       0.46      0.97      0.63       191\n",
      "     respiratory disease       1.00      0.08      0.14        13\n",
      "            skin disease       0.89      0.28      0.42        29\n",
      "                stranded       0.84      0.57      0.68        46\n",
      "\n",
      "               micro avg       0.61      0.61      0.61       617\n",
      "               macro avg       0.88      0.44      0.52       617\n",
      "            weighted avg       0.77      0.61      0.59       617\n",
      "\n",
      "()\n",
      "# Tuning hyper-parameters for recall\n",
      "()\n",
      "Fitting 5 folds for each of 85 candidates, totalling 425 fits\n"
     ]
    },
    {
     "name": "stderr",
     "output_type": "stream",
     "text": [
      "[Parallel(n_jobs=-1)]: Using backend LokyBackend with 4 concurrent workers.\n",
      "[Parallel(n_jobs=-1)]: Done  42 tasks      | elapsed:  1.8min\n",
      "[Parallel(n_jobs=-1)]: Done 192 tasks      | elapsed: 12.0min\n",
      "[Parallel(n_jobs=-1)]: Done 425 out of 425 | elapsed: 32.3min finished\n",
      "C:\\Users\\Falco\\Anaconda2\\lib\\site-packages\\sklearn\\model_selection\\_search.py:841: DeprecationWarning: The default of the `iid` parameter will change from True to False in version 0.22 and will be removed in 0.24. This will change numeric results when test-set sizes are unequal.\n",
      "  DeprecationWarning)\n"
     ]
    },
    {
     "name": "stdout",
     "output_type": "stream",
     "text": [
      "Best parameters set found on development set:\n",
      "()\n",
      "{'kernel': 'rbf', 'C': 1000, 'probability': True, 'gamma': 0.001}\n",
      "()\n",
      "Grid scores on development set:\n",
      "()\n",
      "0.083 (+/-0.000) for {'kernel': 'rbf', 'C': 1, 'probability': True, 'gamma': 0.001}\n",
      "0.083 (+/-0.000) for {'kernel': 'rbf', 'C': 1, 'probability': True, 'gamma': 0.0001}\n",
      "0.083 (+/-0.000) for {'kernel': 'rbf', 'C': 1, 'probability': True, 'gamma': 0.001}\n",
      "0.083 (+/-0.000) for {'kernel': 'rbf', 'C': 1, 'probability': True, 'gamma': 1e-05}\n",
      "0.083 (+/-0.000) for {'kernel': 'rbf', 'C': 10, 'probability': True, 'gamma': 0.001}\n",
      "0.083 (+/-0.000) for {'kernel': 'rbf', 'C': 10, 'probability': True, 'gamma': 0.0001}\n",
      "0.083 (+/-0.000) for {'kernel': 'rbf', 'C': 10, 'probability': True, 'gamma': 0.001}\n",
      "0.083 (+/-0.000) for {'kernel': 'rbf', 'C': 10, 'probability': True, 'gamma': 1e-05}\n",
      "0.488 (+/-0.048) for {'kernel': 'rbf', 'C': 100, 'probability': True, 'gamma': 0.001}\n",
      "0.083 (+/-0.000) for {'kernel': 'rbf', 'C': 100, 'probability': True, 'gamma': 0.0001}\n",
      "0.488 (+/-0.048) for {'kernel': 'rbf', 'C': 100, 'probability': True, 'gamma': 0.001}\n",
      "0.083 (+/-0.000) for {'kernel': 'rbf', 'C': 100, 'probability': True, 'gamma': 1e-05}\n",
      "0.488 (+/-0.048) for {'kernel': 'rbf', 'C': 100, 'probability': True, 'gamma': 0.001}\n",
      "0.083 (+/-0.000) for {'kernel': 'rbf', 'C': 100, 'probability': True, 'gamma': 0.0001}\n",
      "0.488 (+/-0.048) for {'kernel': 'rbf', 'C': 100, 'probability': True, 'gamma': 0.001}\n",
      "0.083 (+/-0.000) for {'kernel': 'rbf', 'C': 100, 'probability': True, 'gamma': 1e-05}\n",
      "0.686 (+/-0.042) for {'kernel': 'rbf', 'C': 1000, 'probability': True, 'gamma': 0.001}\n",
      "0.488 (+/-0.048) for {'kernel': 'rbf', 'C': 1000, 'probability': True, 'gamma': 0.0001}\n",
      "0.686 (+/-0.042) for {'kernel': 'rbf', 'C': 1000, 'probability': True, 'gamma': 0.001}\n",
      "0.083 (+/-0.000) for {'kernel': 'rbf', 'C': 1000, 'probability': True, 'gamma': 1e-05}\n",
      "0.522 (+/-0.034) for {'kernel': 'linear', 'C': 0.25, 'probability': True}\n",
      "0.654 (+/-0.056) for {'kernel': 'linear', 'C': 1, 'probability': True}\n",
      "0.680 (+/-0.049) for {'kernel': 'linear', 'C': 10, 'probability': True}\n",
      "0.682 (+/-0.044) for {'kernel': 'linear', 'C': 100, 'probability': True}\n",
      "0.682 (+/-0.043) for {'kernel': 'linear', 'C': 1000, 'probability': True}\n",
      "0.522 (+/-0.034) for {'kernel': 'poly', 'C': 0.25, 'gamma': 1, 'degree': 1, 'probability': True}\n",
      "0.596 (+/-0.047) for {'kernel': 'poly', 'C': 0.25, 'gamma': 2, 'degree': 1, 'probability': True}\n",
      "0.654 (+/-0.056) for {'kernel': 'poly', 'C': 0.25, 'gamma': 4, 'degree': 1, 'probability': True}\n",
      "0.686 (+/-0.042) for {'kernel': 'poly', 'C': 0.25, 'gamma': 8, 'degree': 1, 'probability': True}\n",
      "0.214 (+/-0.032) for {'kernel': 'poly', 'C': 0.25, 'gamma': 1, 'degree': 3, 'probability': True}\n",
      "0.377 (+/-0.035) for {'kernel': 'poly', 'C': 0.25, 'gamma': 2, 'degree': 3, 'probability': True}\n",
      "0.378 (+/-0.037) for {'kernel': 'poly', 'C': 0.25, 'gamma': 4, 'degree': 3, 'probability': True}\n",
      "0.378 (+/-0.037) for {'kernel': 'poly', 'C': 0.25, 'gamma': 8, 'degree': 3, 'probability': True}\n",
      "0.194 (+/-0.026) for {'kernel': 'poly', 'C': 0.25, 'gamma': 1, 'degree': 5, 'probability': True}\n",
      "0.271 (+/-0.033) for {'kernel': 'poly', 'C': 0.25, 'gamma': 2, 'degree': 5, 'probability': True}\n",
      "0.271 (+/-0.033) for {'kernel': 'poly', 'C': 0.25, 'gamma': 4, 'degree': 5, 'probability': True}\n",
      "0.271 (+/-0.033) for {'kernel': 'poly', 'C': 0.25, 'gamma': 8, 'degree': 5, 'probability': True}\n",
      "0.654 (+/-0.056) for {'kernel': 'poly', 'C': 1, 'gamma': 1, 'degree': 1, 'probability': True}\n",
      "0.686 (+/-0.042) for {'kernel': 'poly', 'C': 1, 'gamma': 2, 'degree': 1, 'probability': True}\n",
      "0.685 (+/-0.049) for {'kernel': 'poly', 'C': 1, 'gamma': 4, 'degree': 1, 'probability': True}\n",
      "0.681 (+/-0.049) for {'kernel': 'poly', 'C': 1, 'gamma': 8, 'degree': 1, 'probability': True}\n",
      "0.340 (+/-0.026) for {'kernel': 'poly', 'C': 1, 'gamma': 1, 'degree': 3, 'probability': True}\n",
      "0.379 (+/-0.037) for {'kernel': 'poly', 'C': 1, 'gamma': 2, 'degree': 3, 'probability': True}\n",
      "0.378 (+/-0.037) for {'kernel': 'poly', 'C': 1, 'gamma': 4, 'degree': 3, 'probability': True}\n",
      "0.378 (+/-0.037) for {'kernel': 'poly', 'C': 1, 'gamma': 8, 'degree': 3, 'probability': True}\n",
      "0.259 (+/-0.031) for {'kernel': 'poly', 'C': 1, 'gamma': 1, 'degree': 5, 'probability': True}\n",
      "0.271 (+/-0.033) for {'kernel': 'poly', 'C': 1, 'gamma': 2, 'degree': 5, 'probability': True}\n",
      "0.271 (+/-0.033) for {'kernel': 'poly', 'C': 1, 'gamma': 4, 'degree': 5, 'probability': True}\n",
      "0.271 (+/-0.033) for {'kernel': 'poly', 'C': 1, 'gamma': 8, 'degree': 5, 'probability': True}\n",
      "0.680 (+/-0.049) for {'kernel': 'poly', 'C': 10, 'gamma': 1, 'degree': 1, 'probability': True}\n",
      "0.680 (+/-0.046) for {'kernel': 'poly', 'C': 10, 'gamma': 2, 'degree': 1, 'probability': True}\n",
      "0.681 (+/-0.044) for {'kernel': 'poly', 'C': 10, 'gamma': 4, 'degree': 1, 'probability': True}\n",
      "0.682 (+/-0.044) for {'kernel': 'poly', 'C': 10, 'gamma': 8, 'degree': 1, 'probability': True}\n",
      "0.378 (+/-0.037) for {'kernel': 'poly', 'C': 10, 'gamma': 1, 'degree': 3, 'probability': True}\n",
      "0.378 (+/-0.037) for {'kernel': 'poly', 'C': 10, 'gamma': 2, 'degree': 3, 'probability': True}\n",
      "0.378 (+/-0.037) for {'kernel': 'poly', 'C': 10, 'gamma': 4, 'degree': 3, 'probability': True}\n",
      "0.378 (+/-0.037) for {'kernel': 'poly', 'C': 10, 'gamma': 8, 'degree': 3, 'probability': True}\n",
      "0.271 (+/-0.033) for {'kernel': 'poly', 'C': 10, 'gamma': 1, 'degree': 5, 'probability': True}\n",
      "0.271 (+/-0.033) for {'kernel': 'poly', 'C': 10, 'gamma': 2, 'degree': 5, 'probability': True}\n",
      "0.271 (+/-0.033) for {'kernel': 'poly', 'C': 10, 'gamma': 4, 'degree': 5, 'probability': True}\n",
      "0.271 (+/-0.033) for {'kernel': 'poly', 'C': 10, 'gamma': 8, 'degree': 5, 'probability': True}\n",
      "0.682 (+/-0.044) for {'kernel': 'poly', 'C': 100, 'gamma': 1, 'degree': 1, 'probability': True}\n",
      "0.682 (+/-0.043) for {'kernel': 'poly', 'C': 100, 'gamma': 2, 'degree': 1, 'probability': True}\n",
      "0.682 (+/-0.043) for {'kernel': 'poly', 'C': 100, 'gamma': 4, 'degree': 1, 'probability': True}\n",
      "0.682 (+/-0.043) for {'kernel': 'poly', 'C': 100, 'gamma': 8, 'degree': 1, 'probability': True}\n",
      "0.378 (+/-0.037) for {'kernel': 'poly', 'C': 100, 'gamma': 1, 'degree': 3, 'probability': True}\n",
      "0.378 (+/-0.037) for {'kernel': 'poly', 'C': 100, 'gamma': 2, 'degree': 3, 'probability': True}\n",
      "0.378 (+/-0.037) for {'kernel': 'poly', 'C': 100, 'gamma': 4, 'degree': 3, 'probability': True}\n",
      "0.378 (+/-0.037) for {'kernel': 'poly', 'C': 100, 'gamma': 8, 'degree': 3, 'probability': True}\n",
      "0.271 (+/-0.033) for {'kernel': 'poly', 'C': 100, 'gamma': 1, 'degree': 5, 'probability': True}\n",
      "0.271 (+/-0.033) for {'kernel': 'poly', 'C': 100, 'gamma': 2, 'degree': 5, 'probability': True}\n",
      "0.271 (+/-0.033) for {'kernel': 'poly', 'C': 100, 'gamma': 4, 'degree': 5, 'probability': True}\n",
      "0.271 (+/-0.033) for {'kernel': 'poly', 'C': 100, 'gamma': 8, 'degree': 5, 'probability': True}\n",
      "0.682 (+/-0.043) for {'kernel': 'poly', 'C': 1000, 'gamma': 1, 'degree': 1, 'probability': True}\n",
      "0.682 (+/-0.043) for {'kernel': 'poly', 'C': 1000, 'gamma': 2, 'degree': 1, 'probability': True}\n",
      "0.682 (+/-0.043) for {'kernel': 'poly', 'C': 1000, 'gamma': 4, 'degree': 1, 'probability': True}\n",
      "0.682 (+/-0.043) for {'kernel': 'poly', 'C': 1000, 'gamma': 8, 'degree': 1, 'probability': True}\n",
      "0.378 (+/-0.037) for {'kernel': 'poly', 'C': 1000, 'gamma': 1, 'degree': 3, 'probability': True}\n",
      "0.378 (+/-0.037) for {'kernel': 'poly', 'C': 1000, 'gamma': 2, 'degree': 3, 'probability': True}\n",
      "0.378 (+/-0.037) for {'kernel': 'poly', 'C': 1000, 'gamma': 4, 'degree': 3, 'probability': True}\n",
      "0.378 (+/-0.037) for {'kernel': 'poly', 'C': 1000, 'gamma': 8, 'degree': 3, 'probability': True}\n",
      "0.271 (+/-0.033) for {'kernel': 'poly', 'C': 1000, 'gamma': 1, 'degree': 5, 'probability': True}\n",
      "0.271 (+/-0.033) for {'kernel': 'poly', 'C': 1000, 'gamma': 2, 'degree': 5, 'probability': True}\n",
      "0.271 (+/-0.033) for {'kernel': 'poly', 'C': 1000, 'gamma': 4, 'degree': 5, 'probability': True}\n",
      "0.271 (+/-0.033) for {'kernel': 'poly', 'C': 1000, 'gamma': 8, 'degree': 5, 'probability': True}\n",
      "()\n",
      "Detailed classification report:\n",
      "()\n",
      "The model is trained on the full development set.\n",
      "The scores are computed on the full evaluation set.\n",
      "()\n",
      "('Accuracy of SVC on holdout data: ', 0.826580226904376)\n",
      "()\n",
      "                          precision    recall  f1-score   support\n",
      "\n",
      "gastrointestinal disease       0.92      0.69      0.79        35\n",
      "      neurologic disease       0.78      0.83      0.80       123\n",
      "             nonspecific       0.92      0.58      0.71        38\n",
      "     nutritional disease       0.94      0.75      0.83        40\n",
      "          ocular disease       0.88      0.81      0.84        43\n",
      "                orphaned       0.97      0.95      0.96        37\n",
      "  petrochemical exposure       1.00      0.91      0.95        22\n",
      "         physical injury       0.78      0.91      0.84       191\n",
      "     respiratory disease       0.73      0.62      0.67        13\n",
      "            skin disease       0.96      0.79      0.87        29\n",
      "                stranded       0.75      0.83      0.78        46\n",
      "\n",
      "               micro avg       0.83      0.83      0.83       617\n",
      "               macro avg       0.87      0.79      0.82       617\n",
      "            weighted avg       0.84      0.83      0.83       617\n",
      "\n",
      "()\n",
      "Running the model with best parameters\n"
     ]
    },
    {
     "name": "stdout",
     "output_type": "stream",
     "text": [
      "Accuracy of model on cross validation dataset while training\n",
      "Accuracy: 0.799569 (+/- 0.027052)\n",
      "Confusion matrix showing classification on cross validation dataset while training\n"
     ]
    },
    {
     "data": {
      "image/png": "[encoded data removed]",
      "text/plain": [
       "<Figure size 432x288 with 2 Axes>"
      ]
     },
     "metadata": {
      "needs_background": "light"
     },
     "output_type": "display_data"
    },
    {
     "name": "stdout",
     "output_type": "stream",
     "text": [
      "Best paraamters for the algorithm\n",
      "\n",
      "SVC(C=1000, cache_size=200, class_weight=None, coef0=0.0,\n",
      "  decision_function_shape='ovr', degree=3, gamma=0.001, kernel='rbf',\n",
      "  max_iter=-1, probability=True, random_state=None, shrinking=True,\n",
      "  tol=0.001, verbose=False)\n",
      "('Accuracy of SVC on holdout data: ', 0.826580226904376)\n"
     ]
    },
    {
     "data": {
      "image/png": "[encoded data removed]",
      "text/plain": [
       "<Figure size 432x288 with 2 Axes>"
      ]
     },
     "metadata": {
      "needs_background": "light"
     },
     "output_type": "display_data"
    },
    {
     "name": "stdout",
     "output_type": "stream",
     "text": [
      "Adjusting the predictions\n",
      "by comparing class wise prediction probabilities and predicted classes\n",
      "\n",
      "('Accuracy of SVC on holdout data: ', 0.8282009724473258)\n",
      "()\n"
     ]
    },
    {
     "data": {
      "image/png": "[encoded data removed]",
      "text/plain": [
       "<Figure size 432x288 with 2 Axes>"
      ]
     },
     "metadata": {
      "needs_background": "light"
     },
     "output_type": "display_data"
    },
    {
     "name": "stdout",
     "output_type": "stream",
     "text": [
      "Wall time: 1h 4min 27s\n"
     ]
    }
   ],
   "source": [
    "%%time\n",
    "\n",
    "## Set the parameters by cross-validation\n",
    "#tuned_parameters = [{'n_estimators': [10, 100],\n",
    "#           'max_features': ['auto', 'sqrt', 'log2'],\n",
    "#           'max_depth' : [3, 6],\n",
    "#           'criterion' :['gini', 'entropy']}]\n",
    "\n",
    "# Set the parameters by cross-validation\n",
    "tuned_parameters = [{'kernel': ['rbf'], \n",
    "                     'gamma': [1e-3, 1e-4, 1e-3, 1e-5],\n",
    "                     'C': [1, 10, 100, 100, 1000], \n",
    "                    'probability':[True]},\n",
    "                   \n",
    "                    {'kernel': ['linear'], 'C': [0.25,1, 10, 100, 1000], 'probability':[True]}, \n",
    "                    {'kernel': ['poly'], 'C': [0.25, 1, 10, 100, 1000], 'probability':[True], \n",
    "                     'degree':[1,3,5], 'gamma':[1,2, 4,8]}\n",
    "                   ]\n",
    "\n",
    "scores = ['precision', 'recall']\n",
    "\n",
    "for score in scores:\n",
    "    print(\"# Tuning hyper-parameters for %s\" % score)\n",
    "    print()\n",
    "    \n",
    "    clf = GridSearchCV(SVC(), tuned_parameters, cv=5,\n",
    "                       scoring='%s_macro' % score, verbose = 1,  n_jobs= -1)\n",
    "    clf.fit(X_train_tfidf, y_train)\n",
    "\n",
    "    print(\"Best parameters set found on development set:\")\n",
    "    print()\n",
    "    print(clf.best_params_)\n",
    "    print()\n",
    "    print(\"Grid scores on development set:\")\n",
    "    print()\n",
    "    means = clf.cv_results_['mean_test_score']\n",
    "    stds = clf.cv_results_['std_test_score']\n",
    "    for mean, std, params in zip(means, stds, clf.cv_results_['params']):\n",
    "        print(\"%0.3f (+/-%0.03f) for %r\"\n",
    "              % (mean, std * 2, params))\n",
    "    print()\n",
    "\n",
    "    print(\"Detailed classification report:\")\n",
    "    print()\n",
    "    print(\"The model is trained on the full development set.\")\n",
    "    print(\"The scores are computed on the full evaluation set.\")\n",
    "    print()\n",
    "       \n",
    "    y_true, y_pred = y_test, clf.predict(X_test_tfidf)\n",
    "    print(\"Accuracy of SVC on holdout data: \",accuracy_score(y_true,y_pred))\n",
    "    print()\n",
    "    \n",
    "    print(classification_report(y_test, y_pred))\n",
    "    print()\n",
    "\n",
    "print('Running the model with best parameters')\n",
    "\n",
    "scores = cross_val_score(clf.best_estimator_, X_train_tfidf, y_train, cv = 5)\n",
    "\n",
    "print('Accuracy of model on cross validation dataset while training')\n",
    "print(\"Accuracy: %0.6f (+/- %0.6f)\" % (scores.mean(), scores.std() * 2))\n",
    "y_pred = cross_val_predict(clf.best_estimator_, X_train_tfidf, y_train, cv = 5)\n",
    "df = pd.DataFrame({'prediction':y_pred, 'obsevred': y_train})\n",
    "confusion_matrix = ConfusionMatrix(df.obsevred, df.prediction)\n",
    "#print(\"Confusion matrix:\\n%s\" % confusion_matrix)\n",
    "#confusion_matrix.print_stats()\n",
    "print('Confusion matrix showing classification on cross validation dataset while training')\n",
    "confusion_matrix.plot(normalized=False, backend='seaborn', cmap='Blues',annot= True)\n",
    "plt.show()\n",
    "\n",
    "print('Best paraamters for the algorithm\\n')\n",
    "print (clf.best_estimator_)\n",
    "best_svc = clf.best_estimator_\n",
    "y_true, y_pred = y_test, clf.predict(X_test_tfidf)\n",
    "\n",
    "print(\"Accuracy of SVC on holdout data: \",accuracy_score(y_true,y_pred))\n",
    "\n",
    "df = pd.DataFrame({'prediction':y_pred, 'obsevred': y_test})\n",
    "confusion_matrix = ConfusionMatrix(df.obsevred, df.prediction)\n",
    "#print(\"Confusion matrix:\\n%s\" % confusion_matrix)\n",
    "#confusion_matrix.print_stats()\n",
    "confusion_matrix.plot(normalized=False, backend='seaborn', cmap='Blues',annot= True, fmt='.0f')\n",
    "plt.savefig(data_path+'/Best_model.png', dpi = 600)\n",
    "plt.show()\n",
    "\n",
    "probs = pd.DataFrame(clf.predict_proba(X_test_tfidf), columns=clf.classes_)\n",
    "arr = np.argsort(-probs.values, axis=1)\n",
    "df1 = pd.DataFrame(probs.columns[arr], index=probs.index)\n",
    "df1.columns = ['rank_'+ str(col)  for col in df1.columns]\n",
    "final_svc = pd.concat([df.reset_index(0), probs], axis=1)\n",
    "final_svc = pd.concat([df.reset_index(0), probs, df1], axis=1)\n",
    "def correct_classification(c):\n",
    "    if c.obsevred ==  c.prediction:\n",
    "        return 1\n",
    "    else:\n",
    "        return 0\n",
    "final_svc['correct_prediction'] = final_svc.apply(correct_classification, axis=1)\n",
    "\n",
    "def matching_two_methods(c):\n",
    "    if c.prediction ==  c['rank_0']:\n",
    "        return 1\n",
    "    else:\n",
    "        return 0\n",
    "\n",
    "final_svc['method_match'] = final_svc.apply(matching_two_methods, axis=1)\n",
    "\n",
    "\n",
    "def matching_rank_2(c):\n",
    "    if c.method_match ==  0:\n",
    "        if c.obsevred ==  c['rank_1']:\n",
    "            return 1\n",
    "        else:\n",
    "            return 0 \n",
    "    else:\n",
    "        return 0\n",
    "\n",
    "final_svc['match_rank_2'] = final_svc.apply(matching_rank_2, axis=1)\n",
    "\n",
    "def adjust_prediction(c):\n",
    "    if c.method_match ==  0:\n",
    "        return c['rank_1']\n",
    "    else:\n",
    "        return c['prediction']\n",
    "\n",
    "final_svc['prediction_adjusted'] = final_svc.apply(adjust_prediction, axis=1)\n",
    "\n",
    "\n",
    "final_svc.to_csv('C:/Users/Falco/Desktop/directory/WRMD_paper/outputs/final_figures/final_svc.csv')\n",
    "\n",
    "print ('Adjusting the predictions\\nby comparing class wise prediction probabilities and predicted classes\\n')\n",
    "\n",
    "print(\"Accuracy of SVC on holdout data: \",accuracy_score(final_svc['obsevred'],final_svc['prediction_adjusted']))\n",
    "print()\n",
    "df = final_svc[['obsevred','prediction_adjusted']]\n",
    "confusion_matrix = ConfusionMatrix(df.obsevred, df.prediction_adjusted)\n",
    "#print(\"Confusion matrix:\\n%s\" % confusion_matrix)\n",
    "#confusion_matrix.print_stats()\n",
    "confusion_matrix.plot(normalized=False, backend='seaborn', cmap='Blues',annot= True, fmt='.0f')\n",
    "plt.savefig('C:/Users/Falco/Desktop/directory/WRMD_paper/outputs/final_figures/Final_model.png', dpi = 600)\n",
    "cm = confusion_matrix.to_dataframe()\n",
    "cm.to_csv('C:/Users/Falco/Desktop/directory/WRMD_paper/outputs/final_figures/confusion_matrix.csv')\n",
    "plt.show()\n"
   ]
  },
  {
   "cell_type": "code",
   "execution_count": 16,
   "metadata": {
    "cell_style": "split",
    "scrolled": true
   },
   "outputs": [
    {
     "data": {
      "image/png": "[encoded data removed]",
      "text/plain": [
       "<Figure size 432x432 with 2 Axes>"
      ]
     },
     "metadata": {
      "needs_background": "light"
     },
     "output_type": "display_data"
    }
   ],
   "source": [
    "import seaborn as sns\n",
    "fig, ax1 = plt.subplots(ncols=1, nrows=1, figsize =(6,6))\n",
    "cm.replace(0, np.nan, inplace= True)\n",
    "sns.heatmap(cm, cmap='GnBu', mask=cm.isnull(),annot=True, fmt='.0f')\n",
    "plt.show()"
   ]
  },
  {
   "cell_type": "code",
   "execution_count": 17,
   "metadata": {
    "cell_style": "split"
   },
   "outputs": [
    {
     "data": {
      "image/png": "[encoded data removed]",
      "text/plain": [
       "<Figure size 432x432 with 2 Axes>"
      ]
     },
     "metadata": {
      "needs_background": "light"
     },
     "output_type": "display_data"
    }
   ],
   "source": [
    "import seaborn as sns\n",
    "fig, ax1 = plt.subplots(ncols=1, nrows=1, figsize =(6,6))\n",
    "cm.replace(0, np.nan, inplace= True)\n",
    "sns.heatmap(cm, cmap='GnBu', annot=True, fmt='.0f')\n",
    "plt.show()"
   ]
  },
  {
   "cell_type": "code",
   "execution_count": 18,
   "metadata": {},
   "outputs": [
    {
     "data": {
      "text/html": [
       "<div>\n",
       "<style scoped>\n",
       "    .dataframe tbody tr th:only-of-type {\n",
       "        vertical-align: middle;\n",
       "    }\n",
       "\n",
       "    .dataframe tbody tr th {\n",
       "        vertical-align: top;\n",
       "    }\n",
       "\n",
       "    .dataframe thead th {\n",
       "        text-align: right;\n",
       "    }\n",
       "</style>\n",
       "<table border=\"1\" class=\"dataframe\">\n",
       "  <thead>\n",
       "    <tr style=\"text-align: right;\">\n",
       "      <th>Predicted</th>\n",
       "      <th>gastrointestinal disease</th>\n",
       "      <th>neurologic disease</th>\n",
       "      <th>nonspecific</th>\n",
       "      <th>nutritional disease</th>\n",
       "      <th>ocular disease</th>\n",
       "      <th>orphaned</th>\n",
       "      <th>petrochemical exposure</th>\n",
       "      <th>physical injury</th>\n",
       "      <th>respiratory disease</th>\n",
       "      <th>skin disease</th>\n",
       "      <th>stranded</th>\n",
       "    </tr>\n",
       "    <tr>\n",
       "      <th>Actual</th>\n",
       "      <th></th>\n",
       "      <th></th>\n",
       "      <th></th>\n",
       "      <th></th>\n",
       "      <th></th>\n",
       "      <th></th>\n",
       "      <th></th>\n",
       "      <th></th>\n",
       "      <th></th>\n",
       "      <th></th>\n",
       "      <th></th>\n",
       "    </tr>\n",
       "  </thead>\n",
       "  <tbody>\n",
       "    <tr>\n",
       "      <th>gastrointestinal disease</th>\n",
       "      <td>24.0</td>\n",
       "      <td>5.0</td>\n",
       "      <td>0.0</td>\n",
       "      <td>0.0</td>\n",
       "      <td>0.0</td>\n",
       "      <td>1.0</td>\n",
       "      <td>0.0</td>\n",
       "      <td>5</td>\n",
       "      <td>0.0</td>\n",
       "      <td>0.0</td>\n",
       "      <td>0.0</td>\n",
       "    </tr>\n",
       "    <tr>\n",
       "      <th>neurologic disease</th>\n",
       "      <td>2.0</td>\n",
       "      <td>102.0</td>\n",
       "      <td>0.0</td>\n",
       "      <td>0.0</td>\n",
       "      <td>2.0</td>\n",
       "      <td>0.0</td>\n",
       "      <td>0.0</td>\n",
       "      <td>16</td>\n",
       "      <td>0.0</td>\n",
       "      <td>0.0</td>\n",
       "      <td>1.0</td>\n",
       "    </tr>\n",
       "    <tr>\n",
       "      <th>nonspecific</th>\n",
       "      <td>0.0</td>\n",
       "      <td>1.0</td>\n",
       "      <td>22.0</td>\n",
       "      <td>0.0</td>\n",
       "      <td>0.0</td>\n",
       "      <td>1.0</td>\n",
       "      <td>0.0</td>\n",
       "      <td>3</td>\n",
       "      <td>3.0</td>\n",
       "      <td>0.0</td>\n",
       "      <td>8.0</td>\n",
       "    </tr>\n",
       "    <tr>\n",
       "      <th>nutritional disease</th>\n",
       "      <td>0.0</td>\n",
       "      <td>3.0</td>\n",
       "      <td>0.0</td>\n",
       "      <td>30.0</td>\n",
       "      <td>0.0</td>\n",
       "      <td>0.0</td>\n",
       "      <td>0.0</td>\n",
       "      <td>5</td>\n",
       "      <td>0.0</td>\n",
       "      <td>0.0</td>\n",
       "      <td>2.0</td>\n",
       "    </tr>\n",
       "    <tr>\n",
       "      <th>ocular disease</th>\n",
       "      <td>0.0</td>\n",
       "      <td>1.0</td>\n",
       "      <td>0.0</td>\n",
       "      <td>0.0</td>\n",
       "      <td>35.0</td>\n",
       "      <td>0.0</td>\n",
       "      <td>0.0</td>\n",
       "      <td>6</td>\n",
       "      <td>0.0</td>\n",
       "      <td>1.0</td>\n",
       "      <td>0.0</td>\n",
       "    </tr>\n",
       "    <tr>\n",
       "      <th>orphaned</th>\n",
       "      <td>0.0</td>\n",
       "      <td>1.0</td>\n",
       "      <td>0.0</td>\n",
       "      <td>0.0</td>\n",
       "      <td>0.0</td>\n",
       "      <td>35.0</td>\n",
       "      <td>0.0</td>\n",
       "      <td>1</td>\n",
       "      <td>0.0</td>\n",
       "      <td>0.0</td>\n",
       "      <td>0.0</td>\n",
       "    </tr>\n",
       "    <tr>\n",
       "      <th>petrochemical exposure</th>\n",
       "      <td>0.0</td>\n",
       "      <td>0.0</td>\n",
       "      <td>0.0</td>\n",
       "      <td>0.0</td>\n",
       "      <td>0.0</td>\n",
       "      <td>0.0</td>\n",
       "      <td>20.0</td>\n",
       "      <td>2</td>\n",
       "      <td>0.0</td>\n",
       "      <td>0.0</td>\n",
       "      <td>0.0</td>\n",
       "    </tr>\n",
       "    <tr>\n",
       "      <th>physical injury</th>\n",
       "      <td>0.0</td>\n",
       "      <td>10.0</td>\n",
       "      <td>0.0</td>\n",
       "      <td>2.0</td>\n",
       "      <td>3.0</td>\n",
       "      <td>0.0</td>\n",
       "      <td>0.0</td>\n",
       "      <td>173</td>\n",
       "      <td>0.0</td>\n",
       "      <td>0.0</td>\n",
       "      <td>3.0</td>\n",
       "    </tr>\n",
       "    <tr>\n",
       "      <th>respiratory disease</th>\n",
       "      <td>0.0</td>\n",
       "      <td>2.0</td>\n",
       "      <td>0.0</td>\n",
       "      <td>0.0</td>\n",
       "      <td>0.0</td>\n",
       "      <td>0.0</td>\n",
       "      <td>0.0</td>\n",
       "      <td>2</td>\n",
       "      <td>9.0</td>\n",
       "      <td>0.0</td>\n",
       "      <td>0.0</td>\n",
       "    </tr>\n",
       "    <tr>\n",
       "      <th>skin disease</th>\n",
       "      <td>0.0</td>\n",
       "      <td>0.0</td>\n",
       "      <td>0.0</td>\n",
       "      <td>0.0</td>\n",
       "      <td>2.0</td>\n",
       "      <td>0.0</td>\n",
       "      <td>0.0</td>\n",
       "      <td>4</td>\n",
       "      <td>0.0</td>\n",
       "      <td>23.0</td>\n",
       "      <td>0.0</td>\n",
       "    </tr>\n",
       "    <tr>\n",
       "      <th>stranded</th>\n",
       "      <td>0.0</td>\n",
       "      <td>1.0</td>\n",
       "      <td>3.0</td>\n",
       "      <td>0.0</td>\n",
       "      <td>0.0</td>\n",
       "      <td>0.0</td>\n",
       "      <td>0.0</td>\n",
       "      <td>4</td>\n",
       "      <td>0.0</td>\n",
       "      <td>0.0</td>\n",
       "      <td>38.0</td>\n",
       "    </tr>\n",
       "  </tbody>\n",
       "</table>\n",
       "</div>"
      ],
      "text/plain": [
       "Predicted                 gastrointestinal disease  neurologic disease  \\\n",
       "Actual                                                                   \n",
       "gastrointestinal disease                      24.0                 5.0   \n",
       "neurologic disease                             2.0               102.0   \n",
       "nonspecific                                    0.0                 1.0   \n",
       "nutritional disease                            0.0                 3.0   \n",
       "ocular disease                                 0.0                 1.0   \n",
       "orphaned                                       0.0                 1.0   \n",
       "petrochemical exposure                         0.0                 0.0   \n",
       "physical injury                                0.0                10.0   \n",
       "respiratory disease                            0.0                 2.0   \n",
       "skin disease                                   0.0                 0.0   \n",
       "stranded                                       0.0                 1.0   \n",
       "\n",
       "Predicted                 nonspecific  nutritional disease  ocular disease  \\\n",
       "Actual                                                                       \n",
       "gastrointestinal disease          0.0                  0.0             0.0   \n",
       "neurologic disease                0.0                  0.0             2.0   \n",
       "nonspecific                      22.0                  0.0             0.0   \n",
       "nutritional disease               0.0                 30.0             0.0   \n",
       "ocular disease                    0.0                  0.0            35.0   \n",
       "orphaned                          0.0                  0.0             0.0   \n",
       "petrochemical exposure            0.0                  0.0             0.0   \n",
       "physical injury                   0.0                  2.0             3.0   \n",
       "respiratory disease               0.0                  0.0             0.0   \n",
       "skin disease                      0.0                  0.0             2.0   \n",
       "stranded                          3.0                  0.0             0.0   \n",
       "\n",
       "Predicted                 orphaned  petrochemical exposure  physical injury  \\\n",
       "Actual                                                                        \n",
       "gastrointestinal disease       1.0                     0.0                5   \n",
       "neurologic disease             0.0                     0.0               16   \n",
       "nonspecific                    1.0                     0.0                3   \n",
       "nutritional disease            0.0                     0.0                5   \n",
       "ocular disease                 0.0                     0.0                6   \n",
       "orphaned                      35.0                     0.0                1   \n",
       "petrochemical exposure         0.0                    20.0                2   \n",
       "physical injury                0.0                     0.0              173   \n",
       "respiratory disease            0.0                     0.0                2   \n",
       "skin disease                   0.0                     0.0                4   \n",
       "stranded                       0.0                     0.0                4   \n",
       "\n",
       "Predicted                 respiratory disease  skin disease  stranded  \n",
       "Actual                                                                 \n",
       "gastrointestinal disease                  0.0           0.0       0.0  \n",
       "neurologic disease                        0.0           0.0       1.0  \n",
       "nonspecific                               3.0           0.0       8.0  \n",
       "nutritional disease                       0.0           0.0       2.0  \n",
       "ocular disease                            0.0           1.0       0.0  \n",
       "orphaned                                  0.0           0.0       0.0  \n",
       "petrochemical exposure                    0.0           0.0       0.0  \n",
       "physical injury                           0.0           0.0       3.0  \n",
       "respiratory disease                       9.0           0.0       0.0  \n",
       "skin disease                              0.0          23.0       0.0  \n",
       "stranded                                  0.0           0.0      38.0  "
      ]
     },
     "execution_count": 18,
     "metadata": {},
     "output_type": "execute_result"
    }
   ],
   "source": [
    "confusion_matrix.to_dataframe().fillna(0)"
   ]
  },
  {
   "cell_type": "code",
   "execution_count": 19,
   "metadata": {},
   "outputs": [
    {
     "data": {
      "text/plain": [
       "Actual\n",
       "gastrointestinal disease     35.0\n",
       "neurologic disease          123.0\n",
       "nonspecific                  38.0\n",
       "nutritional disease          40.0\n",
       "ocular disease               43.0\n",
       "orphaned                     37.0\n",
       "petrochemical exposure       22.0\n",
       "physical injury             191.0\n",
       "respiratory disease          13.0\n",
       "skin disease                 29.0\n",
       "stranded                     46.0\n",
       "dtype: float64"
      ]
     },
     "execution_count": 19,
     "metadata": {},
     "output_type": "execute_result"
    }
   ],
   "source": [
    "confusion_matrix.to_dataframe().fillna(0).sum(axis = 1)"
   ]
  },
  {
   "cell_type": "code",
   "execution_count": 101,
   "metadata": {},
   "outputs": [
    {
     "data": {
      "text/html": [
       "<div>\n",
       "<style scoped>\n",
       "    .dataframe tbody tr th:only-of-type {\n",
       "        vertical-align: middle;\n",
       "    }\n",
       "\n",
       "    .dataframe tbody tr th {\n",
       "        vertical-align: top;\n",
       "    }\n",
       "\n",
       "    .dataframe thead th {\n",
       "        text-align: right;\n",
       "    }\n",
       "</style>\n",
       "<table border=\"1\" class=\"dataframe\">\n",
       "  <thead>\n",
       "    <tr style=\"text-align: right;\">\n",
       "      <th>Predicted</th>\n",
       "      <th>gastrointestinal disease</th>\n",
       "      <th>neurologic disease</th>\n",
       "      <th>nonspecific</th>\n",
       "      <th>nutritional disease</th>\n",
       "      <th>ocular disease</th>\n",
       "      <th>orphaned</th>\n",
       "      <th>petrochemical exposure</th>\n",
       "      <th>physical injury</th>\n",
       "      <th>respiratory disease</th>\n",
       "      <th>skin disease</th>\n",
       "      <th>stranded</th>\n",
       "    </tr>\n",
       "    <tr>\n",
       "      <th>Actual</th>\n",
       "      <th></th>\n",
       "      <th></th>\n",
       "      <th></th>\n",
       "      <th></th>\n",
       "      <th></th>\n",
       "      <th></th>\n",
       "      <th></th>\n",
       "      <th></th>\n",
       "      <th></th>\n",
       "      <th></th>\n",
       "      <th></th>\n",
       "    </tr>\n",
       "  </thead>\n",
       "  <tbody>\n",
       "    <tr>\n",
       "      <th>gastrointestinal disease</th>\n",
       "      <td>0.685714</td>\n",
       "      <td>0.142857</td>\n",
       "      <td>0.000000</td>\n",
       "      <td>0.000000</td>\n",
       "      <td>0.000000</td>\n",
       "      <td>0.028571</td>\n",
       "      <td>0.000000</td>\n",
       "      <td>0.142857</td>\n",
       "      <td>0.000000</td>\n",
       "      <td>0.000000</td>\n",
       "      <td>0.000000</td>\n",
       "    </tr>\n",
       "    <tr>\n",
       "      <th>neurologic disease</th>\n",
       "      <td>0.016260</td>\n",
       "      <td>0.829268</td>\n",
       "      <td>0.000000</td>\n",
       "      <td>0.000000</td>\n",
       "      <td>0.016260</td>\n",
       "      <td>0.000000</td>\n",
       "      <td>0.000000</td>\n",
       "      <td>0.130081</td>\n",
       "      <td>0.000000</td>\n",
       "      <td>0.000000</td>\n",
       "      <td>0.008130</td>\n",
       "    </tr>\n",
       "    <tr>\n",
       "      <th>nonspecific</th>\n",
       "      <td>0.000000</td>\n",
       "      <td>0.026316</td>\n",
       "      <td>0.578947</td>\n",
       "      <td>0.000000</td>\n",
       "      <td>0.000000</td>\n",
       "      <td>0.026316</td>\n",
       "      <td>0.000000</td>\n",
       "      <td>0.078947</td>\n",
       "      <td>0.078947</td>\n",
       "      <td>0.000000</td>\n",
       "      <td>0.210526</td>\n",
       "    </tr>\n",
       "    <tr>\n",
       "      <th>nutritional disease</th>\n",
       "      <td>0.000000</td>\n",
       "      <td>0.075000</td>\n",
       "      <td>0.000000</td>\n",
       "      <td>0.750000</td>\n",
       "      <td>0.000000</td>\n",
       "      <td>0.000000</td>\n",
       "      <td>0.000000</td>\n",
       "      <td>0.150000</td>\n",
       "      <td>0.000000</td>\n",
       "      <td>0.000000</td>\n",
       "      <td>0.025000</td>\n",
       "    </tr>\n",
       "    <tr>\n",
       "      <th>ocular disease</th>\n",
       "      <td>0.000000</td>\n",
       "      <td>0.023256</td>\n",
       "      <td>0.000000</td>\n",
       "      <td>0.000000</td>\n",
       "      <td>0.813953</td>\n",
       "      <td>0.000000</td>\n",
       "      <td>0.000000</td>\n",
       "      <td>0.139535</td>\n",
       "      <td>0.000000</td>\n",
       "      <td>0.023256</td>\n",
       "      <td>0.000000</td>\n",
       "    </tr>\n",
       "    <tr>\n",
       "      <th>orphaned</th>\n",
       "      <td>0.000000</td>\n",
       "      <td>0.027027</td>\n",
       "      <td>0.000000</td>\n",
       "      <td>0.000000</td>\n",
       "      <td>0.000000</td>\n",
       "      <td>0.945946</td>\n",
       "      <td>0.000000</td>\n",
       "      <td>0.027027</td>\n",
       "      <td>0.000000</td>\n",
       "      <td>0.000000</td>\n",
       "      <td>0.000000</td>\n",
       "    </tr>\n",
       "    <tr>\n",
       "      <th>petrochemical exposure</th>\n",
       "      <td>0.000000</td>\n",
       "      <td>0.000000</td>\n",
       "      <td>0.000000</td>\n",
       "      <td>0.000000</td>\n",
       "      <td>0.000000</td>\n",
       "      <td>0.000000</td>\n",
       "      <td>0.909091</td>\n",
       "      <td>0.090909</td>\n",
       "      <td>0.000000</td>\n",
       "      <td>0.000000</td>\n",
       "      <td>0.000000</td>\n",
       "    </tr>\n",
       "    <tr>\n",
       "      <th>physical injury</th>\n",
       "      <td>0.000000</td>\n",
       "      <td>0.052356</td>\n",
       "      <td>0.000000</td>\n",
       "      <td>0.010471</td>\n",
       "      <td>0.005236</td>\n",
       "      <td>0.000000</td>\n",
       "      <td>0.000000</td>\n",
       "      <td>0.916230</td>\n",
       "      <td>0.000000</td>\n",
       "      <td>0.000000</td>\n",
       "      <td>0.015707</td>\n",
       "    </tr>\n",
       "    <tr>\n",
       "      <th>respiratory disease</th>\n",
       "      <td>0.000000</td>\n",
       "      <td>0.153846</td>\n",
       "      <td>0.000000</td>\n",
       "      <td>0.000000</td>\n",
       "      <td>0.000000</td>\n",
       "      <td>0.000000</td>\n",
       "      <td>0.000000</td>\n",
       "      <td>0.153846</td>\n",
       "      <td>0.692308</td>\n",
       "      <td>0.000000</td>\n",
       "      <td>0.000000</td>\n",
       "    </tr>\n",
       "    <tr>\n",
       "      <th>skin disease</th>\n",
       "      <td>0.000000</td>\n",
       "      <td>0.000000</td>\n",
       "      <td>0.000000</td>\n",
       "      <td>0.000000</td>\n",
       "      <td>0.068966</td>\n",
       "      <td>0.000000</td>\n",
       "      <td>0.000000</td>\n",
       "      <td>0.137931</td>\n",
       "      <td>0.000000</td>\n",
       "      <td>0.793103</td>\n",
       "      <td>0.000000</td>\n",
       "    </tr>\n",
       "    <tr>\n",
       "      <th>stranded</th>\n",
       "      <td>0.000000</td>\n",
       "      <td>0.021739</td>\n",
       "      <td>0.065217</td>\n",
       "      <td>0.000000</td>\n",
       "      <td>0.000000</td>\n",
       "      <td>0.000000</td>\n",
       "      <td>0.000000</td>\n",
       "      <td>0.086957</td>\n",
       "      <td>0.000000</td>\n",
       "      <td>0.000000</td>\n",
       "      <td>0.826087</td>\n",
       "    </tr>\n",
       "  </tbody>\n",
       "</table>\n",
       "</div>"
      ],
      "text/plain": [
       "Predicted                 gastrointestinal disease  neurologic disease  \\\n",
       "Actual                                                                   \n",
       "gastrointestinal disease                  0.685714            0.142857   \n",
       "neurologic disease                        0.016260            0.829268   \n",
       "nonspecific                               0.000000            0.026316   \n",
       "nutritional disease                       0.000000            0.075000   \n",
       "ocular disease                            0.000000            0.023256   \n",
       "orphaned                                  0.000000            0.027027   \n",
       "petrochemical exposure                    0.000000            0.000000   \n",
       "physical injury                           0.000000            0.052356   \n",
       "respiratory disease                       0.000000            0.153846   \n",
       "skin disease                              0.000000            0.000000   \n",
       "stranded                                  0.000000            0.021739   \n",
       "\n",
       "Predicted                 nonspecific  nutritional disease  ocular disease  \\\n",
       "Actual                                                                       \n",
       "gastrointestinal disease     0.000000             0.000000        0.000000   \n",
       "neurologic disease           0.000000             0.000000        0.016260   \n",
       "nonspecific                  0.578947             0.000000        0.000000   \n",
       "nutritional disease          0.000000             0.750000        0.000000   \n",
       "ocular disease               0.000000             0.000000        0.813953   \n",
       "orphaned                     0.000000             0.000000        0.000000   \n",
       "petrochemical exposure       0.000000             0.000000        0.000000   \n",
       "physical injury              0.000000             0.010471        0.005236   \n",
       "respiratory disease          0.000000             0.000000        0.000000   \n",
       "skin disease                 0.000000             0.000000        0.068966   \n",
       "stranded                     0.065217             0.000000        0.000000   \n",
       "\n",
       "Predicted                 orphaned  petrochemical exposure  physical injury  \\\n",
       "Actual                                                                        \n",
       "gastrointestinal disease  0.028571                0.000000         0.142857   \n",
       "neurologic disease        0.000000                0.000000         0.130081   \n",
       "nonspecific               0.026316                0.000000         0.078947   \n",
       "nutritional disease       0.000000                0.000000         0.150000   \n",
       "ocular disease            0.000000                0.000000         0.139535   \n",
       "orphaned                  0.945946                0.000000         0.027027   \n",
       "petrochemical exposure    0.000000                0.909091         0.090909   \n",
       "physical injury           0.000000                0.000000         0.916230   \n",
       "respiratory disease       0.000000                0.000000         0.153846   \n",
       "skin disease              0.000000                0.000000         0.137931   \n",
       "stranded                  0.000000                0.000000         0.086957   \n",
       "\n",
       "Predicted                 respiratory disease  skin disease  stranded  \n",
       "Actual                                                                 \n",
       "gastrointestinal disease             0.000000      0.000000  0.000000  \n",
       "neurologic disease                   0.000000      0.000000  0.008130  \n",
       "nonspecific                          0.078947      0.000000  0.210526  \n",
       "nutritional disease                  0.000000      0.000000  0.025000  \n",
       "ocular disease                       0.000000      0.023256  0.000000  \n",
       "orphaned                             0.000000      0.000000  0.000000  \n",
       "petrochemical exposure               0.000000      0.000000  0.000000  \n",
       "physical injury                      0.000000      0.000000  0.015707  \n",
       "respiratory disease                  0.692308      0.000000  0.000000  \n",
       "skin disease                         0.000000      0.793103  0.000000  \n",
       "stranded                             0.000000      0.000000  0.826087  "
      ]
     },
     "execution_count": 101,
     "metadata": {},
     "output_type": "execute_result"
    }
   ],
   "source": []
  },
  {
   "cell_type": "code",
   "execution_count": null,
   "metadata": {},
   "outputs": [],
   "source": []
  },
  {
   "cell_type": "code",
   "execution_count": 20,
   "metadata": {},
   "outputs": [
    {
     "data": {
      "image/png": "[encoded data removed]",
      "text/plain": [
       "<Figure size 576x576 with 2 Axes>"
      ]
     },
     "metadata": {
      "needs_background": "light"
     },
     "output_type": "display_data"
    }
   ],
   "source": [
    "cm_perc = confusion_matrix.to_dataframe().fillna(0)\n",
    "cm_perc = (cm_perc.fillna(0).T/cm_perc.fillna(0).sum(axis = 1)).T\n",
    "cm_perc.replace(0, np.nan, inplace= True)\n",
    "fig, ax1 = plt.subplots(ncols=1, nrows=1, figsize =(8,8))\n",
    "sns.heatmap(cm_perc, cmap='GnBu', annot=True, fmt='.2f', annot_kws={\"size\": 11})\n",
    "plt.tight_layout()\n",
    "plt.savefig('C:/Users/Falco/Desktop/directory/WRMD_paper/outputs/final_figures/Figure2_confusion_matrix.png', dpi = 600)\n",
    "plt.savefig('C:/Users/Falco/Desktop/directory/WRMD_paper/outputs/final_figures/Figure2_confusion_matrix.svg', dpi = 600)\n",
    "\n",
    "plt.show()"
   ]
  },
  {
   "cell_type": "code",
   "execution_count": 83,
   "metadata": {},
   "outputs": [
    {
     "data": {
      "text/plain": [
       "Actual\n",
       "gastrointestinal disease    0.779570\n",
       "neurologic disease          1.038432\n",
       "nonspecific                 1.034494\n",
       "nutritional disease         0.827543\n",
       "ocular disease              0.887980\n",
       "orphaned                    0.959312\n",
       "petrochemical exposure      0.919562\n",
       "physical injury             1.136004\n",
       "respiratory disease         0.719039\n",
       "skin disease                0.860557\n",
       "stranded                    0.934107\n",
       "dtype: float64"
      ]
     },
     "execution_count": 83,
     "metadata": {},
     "output_type": "execute_result"
    }
   ],
   "source": [
    "cm_perc.sum(axis=0)"
   ]
  },
  {
   "cell_type": "code",
   "execution_count": null,
   "metadata": {},
   "outputs": [],
   "source": [
    "from sklearn.metrics import roc_curve, auc\n",
    "from scipy import interp\n",
    "from itertools import cycle\n",
    "import seaborn as sns\n",
    "lw = 2"
   ]
  },
  {
   "cell_type": "code",
   "execution_count": null,
   "metadata": {},
   "outputs": [],
   "source": [
    "colors = ['#1b9e77', '#d95f02', '#7570b3']"
   ]
  },
  {
   "cell_type": "code",
   "execution_count": null,
   "metadata": {},
   "outputs": [],
   "source": [
    "lw = 4\n",
    "def plot_ROC(start, end , ax, fpr, tpr, roc_auc):\n",
    "    colors = ['#1b9e77', '#d95f02', '#7570b3','#e7298a']\n",
    "    for i, color, s in zip(range(start, end), colors, clf.classes_[start:end]):\n",
    "        name = 'ROC ' + clf.classes_[i]+'(area = {1:0.2f})'\n",
    "        ax.plot(fpr[i], tpr[i], color=color, lw=lw,\n",
    "                 label='{0} (AUC = {1:0.2f})'\n",
    "                 ''.format(s, roc_auc[i]))\n",
    "\n",
    "    ax.plot([0, 1], [0, 1], 'k--', lw=lw)\n",
    "    ax.set_xlim([-0.05, 1.0])\n",
    "    ax.set_ylim([-0.05, 1.05])\n",
    "    ax.set_xlabel('False Positive Rate')\n",
    "    ax.set_ylabel('True Positive Rate')\n",
    "    ax.legend(loc=\"lower right\")"
   ]
  },
  {
   "cell_type": "code",
   "execution_count": null,
   "metadata": {},
   "outputs": [],
   "source": [
    "n_classes = len(np.unique(y_train))\n",
    "probs = clf.predict_proba(X_test_tfidf)\n",
    "# Compute ROC curve and ROC area for each class\n",
    "fpr = dict()\n",
    "tpr = dict()\n",
    "roc_auc = dict()\n",
    "for i in range(n_classes):\n",
    "    fpr[i], tpr[i], _ = roc_curve(y_test, probs[:, i], pos_label = clf.classes_[i])\n",
    "    roc_auc[i] = auc(fpr[i], tpr[i])\n",
    "\n",
    "# Compute micro-average ROC curve and ROC area\n",
    "#fpr[\"micro\"], tpr[\"micro\"], _ = roc_curve(y_test.ravel(), probs.ravel())\n",
    "#roc_auc[\"micro\"] = auc(fpr[\"micro\"], tpr[\"micro\"])\n",
    "\n",
    "all_fpr = np.unique(np.concatenate([fpr[i] for i in range(n_classes)]))\n",
    "# Then interpolate all ROC curves at this points\n",
    "mean_tpr = np.zeros_like(all_fpr)\n",
    "for i in range(n_classes):\n",
    "    mean_tpr += interp(all_fpr, fpr[i], tpr[i])\n",
    "\n",
    "# Finally average it and compute AUC\n",
    "mean_tpr /= n_classes\n",
    "\n",
    "fpr[\"macro\"] = all_fpr\n",
    "tpr[\"macro\"] = mean_tpr\n",
    "roc_auc[\"macro\"] = auc(fpr[\"macro\"], tpr[\"macro\"])\n",
    "cmap = sns.color_palette(\"Set2\", 12)\n",
    "\n",
    "plt.rcParams['figure.figsize'] = (6,6)\n",
    "# Plot all ROC curves\n",
    "fig, (ax1, ax2, ax3) = plt.subplots(ncols=3, nrows=1, figsize =(18,6))\n",
    "plot_ROC(start = 0, end = 4 , ax = ax1, fpr = fpr, tpr =tpr , roc_auc = roc_auc)\n",
    "plot_ROC(start = 4, end = 8 , ax = ax2, fpr = fpr, tpr =tpr , roc_auc = roc_auc)\n",
    "plot_ROC(start = 8, end = 12 , ax = ax3, fpr = fpr, tpr =tpr , roc_auc = roc_auc)\n",
    "plt.savefig('C:\\Users\\Falco\\Desktop\\directory\\WRMD_paper\\outputs\\ROC_curves.png', dpi = 600)\n",
    "plt.show()"
   ]
  },
  {
   "cell_type": "code",
   "execution_count": null,
   "metadata": {},
   "outputs": [],
   "source": [
    "clf"
   ]
  },
  {
   "cell_type": "code",
   "execution_count": null,
   "metadata": {},
   "outputs": [],
   "source": [
    "def top_feats_in_doc(Xtr, features, row_id, top_n=25):\n",
    "    ''' Top tfidf features in specific document (matrix row) '''\n",
    "    row = np.squeeze(Xtr[row_id].toarray())\n",
    "    return top_tfidf_feats(row, features, top_n)\n",
    "\n",
    "\n",
    "def top_tfidf_feats(row, features, top_n=25):\n",
    "    ''' Get top n tfidf values in row and return them with their corresponding feature names.'''\n",
    "    topn_ids = np.argsort(row)[::-1][:top_n]\n",
    "    top_feats = [(features[i], row[i]) for i in topn_ids]\n",
    "    df = pd.DataFrame(top_feats)\n",
    "    df.columns = ['feature', 'tfidf']\n",
    "    return df\n",
    "\n",
    "\n",
    "def top_mean_feats(X_train_tfidf, features, grp_ids=None, min_tfidf=0.1, top_n=25):\n",
    "    ''' Return the top n features that on average are most important amongst documents in rows\n",
    "        indentified by indices in grp_ids. '''\n",
    "    if grp_ids:\n",
    "        D = X_train_tfidf[grp_ids].toarray()\n",
    "    else:\n",
    "        D = X_train_tfidf.toarray()\n",
    "\n",
    "    D[D < min_tfidf] = 0\n",
    "    tfidf_means = np.mean(D, axis=0)\n",
    "    return top_tfidf_feats(tfidf_means, features, top_n)"
   ]
  },
  {
   "cell_type": "code",
   "execution_count": null,
   "metadata": {},
   "outputs": [],
   "source": [
    "def top_feats_by_class(Xtr, y, features, min_tfidf=0.1, top_n=25):\n",
    "    \n",
    "    ''' Return a list of dfs, where each df holds top_n features and their mean tfidf value\n",
    "        calculated across documents with the same class label. '''\n",
    "    dfs = []\n",
    "    labels = np.unique(y)\n",
    "    for label in labels:\n",
    "        ids = np.where(y==label)\n",
    "        feats_df = top_mean_feats(Xtr, features, ids, min_tfidf=min_tfidf, top_n=top_n)\n",
    "        feats_df['label'] = label\n",
    "        dfs.append(feats_df)\n",
    "    return dfs"
   ]
  },
  {
   "cell_type": "code",
   "execution_count": null,
   "metadata": {
    "scrolled": false
   },
   "outputs": [],
   "source": [
    "dataframes = top_feats_by_class(Xtr= X_test_tfidf, y= y_test, features=features)"
   ]
  },
  {
   "cell_type": "code",
   "execution_count": null,
   "metadata": {},
   "outputs": [],
   "source": [
    "dataframes[0].head()"
   ]
  },
  {
   "cell_type": "code",
   "execution_count": null,
   "metadata": {},
   "outputs": [],
   "source": [
    "clf.classes_"
   ]
  },
  {
   "cell_type": "code",
   "execution_count": null,
   "metadata": {
    "scrolled": true
   },
   "outputs": [],
   "source": [
    "for df in dataframes:\n",
    "    df.set_index('feature').plot(kind = 'barh', title = df.label.unique()[0])"
   ]
  },
  {
   "cell_type": "markdown",
   "metadata": {},
   "source": [
    "## Prediction on historical dataset"
   ]
  },
  {
   "cell_type": "code",
   "execution_count": null,
   "metadata": {},
   "outputs": [],
   "source": [
    "%%time\n",
    "predhist = clf.predict(X_hist_tfidf)\n",
    "probs_hist = pd.DataFrame(clf.predict_proba(X_hist_tfidf), columns=clf.classes_, index= h_data.index)\n",
    "arr = np.argsort(-probs_hist.values, axis=1)"
   ]
  },
  {
   "cell_type": "code",
   "execution_count": null,
   "metadata": {},
   "outputs": [],
   "source": [
    "df2 = pd.DataFrame(probs_hist.columns[arr], index=h_data.index)\n",
    "df2.columns = ['rank_'+ str(col)  for col in df2.columns]\n",
    "df2.head()"
   ]
  },
  {
   "cell_type": "code",
   "execution_count": null,
   "metadata": {},
   "outputs": [],
   "source": [
    "%% time\n",
    "hist_final = h_data\n",
    "hist_final['prediction'] =predhist \n",
    "hist_final = pd.concat([hist_final, probs_hist, df2], axis=1)\n",
    "hist_final['method_match'] = hist_final.apply(matching_two_methods, axis=1)\n",
    "\n",
    "def adjust_prediction(c):\n",
    "    if c.method_match ==  0:\n",
    "        return c['rank_0']\n",
    "    else:\n",
    "        return c['prediction']\n",
    "\n",
    "final_svc['prediction_adjusted'] = final_svc.apply(adjust_prediction, axis=1)\n",
    "\n",
    "hist_final['prediction_adjusted'] = hist_final.apply(adjust_prediction, axis=1)"
   ]
  },
  {
   "cell_type": "code",
   "execution_count": null,
   "metadata": {},
   "outputs": [],
   "source": [
    "%% time\n",
    "hist_final.to_csv(data_path+'/Predicted_final.csv')"
   ]
  },
  {
   "cell_type": "markdown",
   "metadata": {},
   "source": [
    "## Final fit with all training data"
   ]
  },
  {
   "cell_type": "code",
   "execution_count": null,
   "metadata": {},
   "outputs": [],
   "source": [
    "data.columns"
   ]
  },
  {
   "cell_type": "code",
   "execution_count": null,
   "metadata": {},
   "outputs": [],
   "source": [
    "def split_into_tokens(message):\n",
    "    message = unicode(message, 'utf8')  # convert bytes into proper unicode\n",
    "    return TextBlob(message).words\n",
    "\n",
    "\n",
    "def split_into_lemmas(message):\n",
    "    message = unicode(message, 'utf8').lower()\n",
    "    words = TextBlob(message).words\n",
    "    # for each word, take its \"base form\" = lemma \n",
    "    return [word.lemma for word in words]\n",
    "\n",
    "\n",
    "def bag_of_words_complete_model(data_frame):\n",
    "    print('count vectorize')\n",
    "    count_vect = CountVectorizer(analyzer=split_into_lemmas,ngram_range= (1, 3), encoding='utf8',stop_words =None)\n",
    "    X_counts = count_vect.fit_transform(data_frame['Condition'])\n",
    "    \n",
    "    print('tfid tranformer')\n",
    "    tfidf_transformer = TfidfTransformer()\n",
    "    X_tfidf = tfidf_transformer.fit_transform(X_counts)\n",
    "    \n",
    "    print('Training model on complete training dataset')\n",
    "    print (X_tfidf.shape)\n",
    "    \n",
    "    return X_tfidf, data_frame['condition_predict'], count_vect, tfidf_transformer\n",
    "\n",
    "best_svc = SVC(C=1000, cache_size=200, class_weight=None, coef0=0.0,\n",
    "                  decision_function_shape='ovr', degree=3, gamma=0.001, kernel='rbf',\n",
    "                  max_iter=-1, probability=True, random_state=None, shrinking=True,\n",
    "                  tol=0.001, verbose=False)"
   ]
  },
  {
   "cell_type": "code",
   "execution_count": null,
   "metadata": {},
   "outputs": [],
   "source": []
  },
  {
   "cell_type": "code",
   "execution_count": null,
   "metadata": {},
   "outputs": [],
   "source": [
    "def split_into_lemmas(message):\n",
    "    message = unicode(message, 'utf8').lower()\n",
    "    words = TextBlob(message).words\n",
    "    # for each word, take its \"base form\" = lemma \n",
    "    return [word.lemma for word in words]\n",
    "\n",
    "from sklearn.pipeline import Pipeline\n",
    "\n",
    "count_vect = CountVectorizer(analyzer=split_into_lemmas,ngram_range= (1, 3), encoding='utf8',stop_words =None)\n",
    "tfidf_transformer = TfidfTransformer()\n",
    "text_clf = Pipeline([('vect', count_vect), ('tdif', tfidf_transformer), ('clf', best_svc)])\n"
   ]
  },
  {
   "cell_type": "code",
   "execution_count": null,
   "metadata": {},
   "outputs": [],
   "source": [
    "%%time\n",
    "text_clf.fit(X=data['Condition'], y=data['condition_predict'])"
   ]
  },
  {
   "cell_type": "code",
   "execution_count": null,
   "metadata": {},
   "outputs": [],
   "source": [
    "_ = joblib.dump(text_clf, 'classification_pipeline.pkl')"
   ]
  },
  {
   "cell_type": "code",
   "execution_count": null,
   "metadata": {},
   "outputs": [],
   "source": [
    "%%time\n",
    "X_tfidf, Y, count_vectrotize_obj_complete , tfidf_transformer_object= bag_of_words_complete_model(data_frame= data)"
   ]
  },
  {
   "cell_type": "code",
   "execution_count": null,
   "metadata": {},
   "outputs": [],
   "source": [
    "%%time\n",
    "best_svc = SVC(C=1000, cache_size=200, class_weight=None, coef0=0.0,\n",
    "                  decision_function_shape='ovr', degree=3, gamma=0.001, kernel='rbf',\n",
    "                  max_iter=-1, probability=True, random_state=None, shrinking=True,\n",
    "                  tol=0.001, verbose=False)\n",
    "best_svc.fit(X=X_tfidf, y=Y)"
   ]
  },
  {
   "cell_type": "code",
   "execution_count": null,
   "metadata": {},
   "outputs": [],
   "source": [
    "best_svc"
   ]
  },
  {
   "cell_type": "markdown",
   "metadata": {},
   "source": [
    "## Dumping the model into a .pkl file for later use\n"
   ]
  },
  {
   "cell_type": "code",
   "execution_count": 30,
   "metadata": {},
   "outputs": [
    {
     "data": {
      "text/plain": [
       "['Syndrom_classification_model.pkl']"
      ]
     },
     "execution_count": 30,
     "metadata": {},
     "output_type": "execute_result"
    }
   ],
   "source": [
    "from sklearn.externals import joblib\n",
    "joblib.dump(best_svc, 'Syndrom_classification_model.pkl')"
   ]
  },
  {
   "cell_type": "code",
   "execution_count": 31,
   "metadata": {},
   "outputs": [
    {
     "data": {
      "text/plain": [
       "['tfidf_transformer_object.pkl']"
      ]
     },
     "execution_count": 31,
     "metadata": {},
     "output_type": "execute_result"
    }
   ],
   "source": [
    "joblib.dump(count_vectrotize_obj_complete, 'count_vectrotize_obj_complete.pkl')\n",
    "joblib.dump(tfidf_transformer_object, 'tfidf_transformer_object.pkl')"
   ]
  }
 ],
 "metadata": {
  "kernelspec": {
   "display_name": "Python 3",
   "language": "python",
   "name": "python3"
  },
  "language_info": {
   "codemirror_mode": {
    "name": "ipython",
    "version": 3
   },
   "file_extension": ".py",
   "mimetype": "text/x-python",
   "name": "python",
   "nbconvert_exporter": "python",
   "pygments_lexer": "ipython3",
   "version": "3.8.3"
  },
  "toc": {
   "base_numbering": 1,
   "nav_menu": {},
   "number_sections": true,
   "sideBar": true,
   "skip_h1_title": false,
   "title_cell": "Table of Contents",
   "title_sidebar": "Contents",
   "toc_cell": false,
   "toc_position": {},
   "toc_section_display": true,
   "toc_window_display": false
  },
  "varInspector": {
   "cols": {
    "lenName": 16,
    "lenType": 16,
    "lenVar": 40
   },
   "kernels_config": {
    "python": {
     "delete_cmd_postfix": "",
     "delete_cmd_prefix": "del ",
     "library": "var_list.py",
     "varRefreshCmd": "print(var_dic_list())"
    },
    "r": {
     "delete_cmd_postfix": ") ",
     "delete_cmd_prefix": "rm(",
     "library": "var_list.r",
     "varRefreshCmd": "cat(var_dic_list()) "
    }
   },
   "types_to_exclude": [
    "module",
    "function",
    "builtin_function_or_method",
    "instance",
    "_Feature"
   ],
   "window_display": false
  }
 },
 "nbformat": 4,
 "nbformat_minor": 2
}
